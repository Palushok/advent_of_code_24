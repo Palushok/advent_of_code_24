{
 "cells": [
  {
   "cell_type": "code",
   "execution_count": 5,
   "id": "fec6f205",
   "metadata": {},
   "outputs": [],
   "source": [
    "import numpy as np\n",
    "from collections import defaultdict"
   ]
  },
  {
   "cell_type": "code",
   "execution_count": 6,
   "id": "c711560f",
   "metadata": {},
   "outputs": [],
   "source": [
    "with open('data/18.txt', 'r') as f:\n",
    "    data = [[int(y)+1 for y in x.split(',')] for x in f.read().splitlines()]"
   ]
  },
  {
   "cell_type": "code",
   "execution_count": 7,
   "id": "bed8bd40",
   "metadata": {},
   "outputs": [],
   "source": [
    "base_map_len = 71\n",
    "FIRST = 1024\n",
    "shape = (base_map_len + 2, base_map_len + 2)\n",
    "mapa = np.full(shape, '#')\n",
    "mapa[1:-1, 1:-1] = '.'\n",
    "start_pos = (1,1)\n",
    "end_pos = (shape[0]-2, shape[1]-2)\n"
   ]
  },
  {
   "cell_type": "code",
   "execution_count": 8,
   "id": "9e219595",
   "metadata": {},
   "outputs": [],
   "source": [
    "directions = (\n",
    "    (-1,0),\n",
    "    (1, 0),\n",
    "    (0,-1),\n",
    "    (0, 1),\n",
    ")"
   ]
  },
  {
   "cell_type": "code",
   "execution_count": 9,
   "id": "6199804b",
   "metadata": {},
   "outputs": [],
   "source": [
    "for d in data[:FIRST]:\n",
    "    mapa[*d[::-1]] = '#'"
   ]
  },
  {
   "cell_type": "code",
   "execution_count": 10,
   "id": "5e4e0a73",
   "metadata": {},
   "outputs": [],
   "source": [
    "pos_ways = []\n",
    "for d in directions:\n",
    "    new_pos = start_pos[0] + d[0], start_pos[1] + d[1]\n",
    "    if mapa[new_pos] == '.':\n",
    "        pos_ways.append([(new_pos), d, 1])\n",
    "\n",
    "distance_map = np.ones_like(mapa, dtype=float)\n",
    "distance_map *= np.inf\n",
    "distance_map[start_pos] = 0\n",
    "\n",
    "while pos_ways:\n",
    "    pos, new_d, dist = pos_ways.pop()\n",
    "    distance_map[pos] = min(distance_map[pos], dist)\n",
    "    new_pos = pos[0] + new_d[0], pos[1] + new_d[1]\n",
    "    for d in directions:\n",
    "        new_pos = pos[0] + d[0], pos[1] + d[1]\n",
    "        if mapa[new_pos] != '#' and (distance_map[new_pos] > dist + 1):\n",
    "            pos_ways.append((new_pos, d, dist + 1))\n",
    "        \n",
    "    "
   ]
  },
  {
   "cell_type": "code",
   "execution_count": 11,
   "id": "79980a77",
   "metadata": {},
   "outputs": [
    {
     "data": {
      "text/plain": [
       "340"
      ]
     },
     "execution_count": 11,
     "metadata": {},
     "output_type": "execute_result"
    }
   ],
   "source": [
    "int(distance_map[end_pos])"
   ]
  },
  {
   "cell_type": "code",
   "execution_count": 7,
   "id": "9c90d3a6",
   "metadata": {},
   "outputs": [],
   "source": [
    "graph = defaultdict(set)\n",
    "for i in range(len(mapa)):\n",
    "    for j in range(len(mapa[0])):\n",
    "        if mapa[i, j] == '.':\n",
    "            for d in directions:\n",
    "                if mapa[i + d[0], j + d[1]] == '.':\n",
    "                    graph[(i, j)].add((i + d[0], j + d[1]))"
   ]
  },
  {
   "cell_type": "code",
   "execution_count": 8,
   "id": "bbda649d",
   "metadata": {},
   "outputs": [
    {
     "name": "stdout",
     "output_type": "stream",
     "text": [
      "34,32\n"
     ]
    }
   ],
   "source": [
    "for index_ in range(FIRST, len(data)):\n",
    "    not_anymore_elem = tuple(data[index_][::-1])\n",
    "    if not_anymore_elem in graph:\n",
    "        del(graph[not_anymore_elem])\n",
    "    else:\n",
    "        continue\n",
    "    for i, v in graph.items():\n",
    "        if not_anymore_elem in v:\n",
    "            remove = True\n",
    "            graph[i].remove(not_anymore_elem)\n",
    "\n",
    "    visited = set()\n",
    "    visit = [*graph[start_pos]]\n",
    "    while (end_pos not in visited) and visit:\n",
    "        new_elem = visit.pop()\n",
    "        for e in graph[new_elem]:\n",
    "            if e not in visited:\n",
    "                visit.append(e)\n",
    "                visited.add(e)\n",
    "    if end_pos not in visited:\n",
    "        print(f\"{data[index_][0]-1},{data[index_][1]-1}\")\n",
    "        break"
   ]
  },
  {
   "cell_type": "code",
   "execution_count": 13,
   "id": "af687c11",
   "metadata": {},
   "outputs": [
    {
     "data": {
      "text/plain": [
       "285"
      ]
     },
     "execution_count": 13,
     "metadata": {},
     "output_type": "execute_result"
    }
   ],
   "source": [
    "sum([32\n",
    ",31\n",
    ",29\n",
    ",39\n",
    ",25\n",
    ",23\n",
    ",20\n",
    ",19\n",
    ",12\n",
    ",14\n",
    ",12\n",
    ",22\n",
    ",4\n",
    ",3])"
   ]
  },
  {
   "cell_type": "code",
   "execution_count": null,
   "id": "45144ce6",
   "metadata": {},
   "outputs": [],
   "source": [
    "There are 32 cheats that save 50 picoseconds.\n",
    "There are 31 cheats that save 52 picoseconds.\n",
    "There are 29 cheats that save 54 picoseconds.\n",
    "There are 39 cheats that save 56 picoseconds.\n",
    "There are 25 cheats that save 58 picoseconds.\n",
    "There are 23 cheats that save 60 picoseconds.\n",
    "There are 20 cheats that save 62 picoseconds.\n",
    "There are 19 cheats that save 64 picoseconds.\n",
    "There are 12 cheats that save 66 picoseconds.\n",
    "There are 14 cheats that save 68 picoseconds.\n",
    "There are 12 cheats that save 70 picoseconds.\n",
    "There are 22 cheats that save 72 picoseconds.\n",
    "There are 4 cheats that save 74 picoseconds.\n",
    "There are 3 cheats that save 76 picoseconds."
   ]
  }
 ],
 "metadata": {
  "kernelspec": {
   "display_name": "Python 3 (ipykernel)",
   "language": "python",
   "name": "python3"
  },
  "language_info": {
   "codemirror_mode": {
    "name": "ipython",
    "version": 3
   },
   "file_extension": ".py",
   "mimetype": "text/x-python",
   "name": "python",
   "nbconvert_exporter": "python",
   "pygments_lexer": "ipython3",
   "version": "3.11.3"
  }
 },
 "nbformat": 4,
 "nbformat_minor": 5
}
