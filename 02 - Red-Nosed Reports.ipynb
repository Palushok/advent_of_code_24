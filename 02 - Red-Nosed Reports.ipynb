{
 "cells": [
  {
   "cell_type": "code",
   "execution_count": 1,
   "id": "07d8a14c",
   "metadata": {},
   "outputs": [],
   "source": [
    "with open('data/2.txt', 'r') as f:\n",
    "    data = f.read().split('\\n')\n",
    "\n",
    "data = [[int(x) for x in line.split()] for line in data]"
   ]
  },
  {
   "cell_type": "code",
   "execution_count": 2,
   "id": "29931e24",
   "metadata": {},
   "outputs": [],
   "source": [
    "def is_line_good_by_default(line):\n",
    "    return (min(line) >= -3 and max(line) <= -1) or (min(line) >= 1 and max(line) <= 3)"
   ]
  },
  {
   "cell_type": "code",
   "execution_count": 3,
   "id": "d94e3f80",
   "metadata": {},
   "outputs": [],
   "source": [
    "def make_diff(line):\n",
    "    new_line = []\n",
    "    for i in range(1, len(line)):\n",
    "        new_line.append(line[i] - line[i-1])\n",
    "    return new_line"
   ]
  },
  {
   "cell_type": "code",
   "execution_count": 4,
   "id": "cced5884",
   "metadata": {},
   "outputs": [
    {
     "name": "stdout",
     "output_type": "stream",
     "text": [
      "549 40 589\n"
     ]
    }
   ],
   "source": [
    "res_1 = 0\n",
    "res_2 = 0\n",
    "for line in data:\n",
    "    if is_line_good_by_default(make_diff(line)):\n",
    "        res_1 += 1\n",
    "        continue\n",
    "    for i in range(len(line)):\n",
    "        if is_line_good_by_default(make_diff(line[:i] + line[i+1:])):\n",
    "            res_2 += 1\n",
    "            break\n",
    "print(res_1, res_2, res_1 + res_2)"
   ]
  },
  {
   "cell_type": "code",
   "execution_count": null,
   "id": "544a7b09",
   "metadata": {},
   "outputs": [],
   "source": []
  }
 ],
 "metadata": {
  "kernelspec": {
   "display_name": "Python 3 (ipykernel)",
   "language": "python",
   "name": "python3"
  },
  "language_info": {
   "codemirror_mode": {
    "name": "ipython",
    "version": 3
   },
   "file_extension": ".py",
   "mimetype": "text/x-python",
   "name": "python",
   "nbconvert_exporter": "python",
   "pygments_lexer": "ipython3",
   "version": "3.11.3"
  }
 },
 "nbformat": 4,
 "nbformat_minor": 5
}
