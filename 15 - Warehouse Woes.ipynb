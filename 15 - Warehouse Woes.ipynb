{
 "cells": [
  {
   "cell_type": "code",
   "execution_count": 1,
   "id": "19ee449a",
   "metadata": {},
   "outputs": [],
   "source": [
    "import numpy as np\n",
    "\n",
    "with open('data/15.txt', 'r') as f:\n",
    "    data = f.read()\n",
    "\n",
    "    \n",
    "def get_start_pos(mapa):\n",
    "    start_pos = np.where(mapa=='@')\n",
    "    return start_pos[0][0], start_pos[1][0]\n",
    "\n",
    "def reload_map():\n",
    "    mapa, actions = data.split('\\n\\n')\n",
    "    actions = actions.replace('\\n', '')\n",
    "    mapa = np.array([list(x) for x in mapa.split('\\n')])\n",
    "    start_pos = get_start_pos(mapa)\n",
    "    return mapa, actions, start_pos\n",
    "\n",
    "\n",
    "mapa, actions, start_pos = reload_map()"
   ]
  },
  {
   "cell_type": "code",
   "execution_count": 2,
   "id": "9071bb2d",
   "metadata": {},
   "outputs": [],
   "source": [
    "action_map = {\n",
    "    '>': (0, 1),\n",
    "    '<': (0, -1),\n",
    "    '^': (-1, 0),\n",
    "    'v': (1, 0)\n",
    "}"
   ]
  },
  {
   "cell_type": "code",
   "execution_count": 3,
   "id": "cad5d37b",
   "metadata": {},
   "outputs": [],
   "source": [
    "def step(cur_pos, action):\n",
    "    action_dir = action_map[action]\n",
    "    next_pos = cur_pos[0] + action_dir[0], cur_pos[1] + action_dir[1]\n",
    "    if mapa[next_pos] == '#':\n",
    "        return cur_pos\n",
    "    if mapa[next_pos] == '.':\n",
    "        mapa[cur_pos] = '.'\n",
    "        mapa[next_pos] = '@'\n",
    "        return next_pos\n",
    "    else:\n",
    "        last_pos = next_pos\n",
    "        while mapa[last_pos] == 'O':\n",
    "            last_pos = last_pos[0] + action_dir[0], last_pos[1] + action_dir[1]\n",
    "        if mapa[last_pos] == '#':\n",
    "            return cur_pos\n",
    "        if action == 'v':\n",
    "            mapa[\n",
    "                next_pos[0] + 1: last_pos[0] + 1, next_pos[1]] = 'O'\n",
    "        elif action == '^':\n",
    "            mapa[\n",
    "                last_pos[0]: next_pos[0], next_pos[1]] = 'O'\n",
    "        elif action == '>':\n",
    "            mapa[\n",
    "                next_pos[0], next_pos[1]+1: last_pos[1]+1] = 'O'\n",
    "        elif action == '<':\n",
    "            mapa[\n",
    "                next_pos[0], last_pos[1]: next_pos[1]] = 'O'\n",
    "        mapa[next_pos] = '@'\n",
    "        mapa[cur_pos] = '.'\n",
    "        return next_pos"
   ]
  },
  {
   "cell_type": "code",
   "execution_count": 4,
   "id": "82a31d9d",
   "metadata": {},
   "outputs": [],
   "source": [
    "pos = start_pos\n",
    "for a in actions:\n",
    "    pos = step(pos, a)"
   ]
  },
  {
   "cell_type": "code",
   "execution_count": 5,
   "id": "6c451676",
   "metadata": {},
   "outputs": [],
   "source": [
    "def count_score(mapa, v='O'):\n",
    "    res = 0\n",
    "    ys, xs = np.where(mapa==v)\n",
    "    ys = [int(x) for x in ys]\n",
    "    xs = [int(x) for x in xs]\n",
    "    for y, x in zip(ys, xs):\n",
    "        res += 100 * y + x\n",
    "    return res"
   ]
  },
  {
   "cell_type": "code",
   "execution_count": 6,
   "id": "6cbd90fa",
   "metadata": {},
   "outputs": [
    {
     "data": {
      "text/plain": [
       "1478649"
      ]
     },
     "execution_count": 6,
     "metadata": {},
     "output_type": "execute_result"
    }
   ],
   "source": [
    "count_score(mapa)"
   ]
  },
  {
   "cell_type": "code",
   "execution_count": 7,
   "id": "1018df7c",
   "metadata": {},
   "outputs": [],
   "source": [
    "def reload_b_map():\n",
    "    mapa, actions, start_pos = reload_map()\n",
    "    mapa_b = np.full((mapa.shape[0], mapa.shape[1] * 2), '#')\n",
    "    mapa_b[1:-1, 2:-2] = '.'\n",
    "    ys, xs = np.where(mapa=='O')\n",
    "    ys = [int(x) for x in ys]\n",
    "    xs = [int(x) for x in xs]\n",
    "    for y, x in zip(ys, xs):\n",
    "        mapa_b[y, x*2: x*2+2] = ['[', ']']\n",
    "    ys, xs = np.where(mapa=='#')\n",
    "    ys = [int(x) for x in ys]\n",
    "    xs = [int(x) for x in xs]\n",
    "    for y, x in zip(ys, xs):\n",
    "        mapa_b[y, x*2: x*2+2] = ['#', '#']\n",
    "    mapa_b[start_pos[0], start_pos[1]*2] = '@'\n",
    "    return mapa_b, (start_pos[0], start_pos[1]*2), actions"
   ]
  },
  {
   "cell_type": "code",
   "execution_count": 8,
   "id": "296c390b",
   "metadata": {},
   "outputs": [],
   "source": [
    "def print_b_map():\n",
    "    for l in mapa_b:\n",
    "        print(''.join(l))"
   ]
  },
  {
   "cell_type": "code",
   "execution_count": 9,
   "id": "607c2701",
   "metadata": {},
   "outputs": [],
   "source": [
    "def check_all_above(pos):\n",
    "    new_values = set([pos])\n",
    "    pos_up = pos[0] - 1, pos[1]\n",
    "    if mapa_b[pos_up] == '.':\n",
    "        return True, new_values\n",
    "    elif mapa_b[pos_up] == '#':\n",
    "        return False, {}\n",
    "    \n",
    "    possible_1, new_1 = check_all_above(pos_up)\n",
    "    if mapa_b[pos_up] == '[':\n",
    "        possible_2, new_2 = check_all_above((pos[0] - 1, pos[1] + 1))\n",
    "    elif mapa_b[pos_up] == ']':\n",
    "        possible_2, new_2 = check_all_above((pos[0] - 1, pos[1] - 1))\n",
    "    if possible_1 and possible_2:\n",
    "        return True, new_values | new_1 | new_2\n",
    "    else:\n",
    "        return False, {}\n",
    "\n",
    "def fill_all_above(values):\n",
    "    new_poses = {}\n",
    "    for new_pos in values:\n",
    "        if (new_pos[0]+1, new_pos[1]) not in values:\n",
    "            new_poses[new_pos] = '.'\n",
    "        else:\n",
    "            new_poses[new_pos] = mapa_b[new_pos[0]+1, new_pos[1]]\n",
    "        new_poses[new_pos[0]-1, new_pos[1]] = mapa_b[new_pos]\n",
    "    for pose, value in new_poses.items():\n",
    "        mapa_b[pose] = value"
   ]
  },
  {
   "cell_type": "code",
   "execution_count": 10,
   "id": "c7e8991a",
   "metadata": {},
   "outputs": [],
   "source": [
    "def check_all_below(pos):\n",
    "    new_values = set([pos])\n",
    "    pos_up = pos[0] + 1, pos[1]\n",
    "    if mapa_b[pos_up] == '.':\n",
    "        return True, new_values\n",
    "    elif mapa_b[pos_up] == '#':\n",
    "        return False, {}\n",
    "    \n",
    "    possible_1, new_1 = check_all_below(pos_up)\n",
    "    if mapa_b[pos_up] == '[':\n",
    "        possible_2, new_2 = check_all_below((pos[0] + 1, pos[1] + 1))\n",
    "    elif mapa_b[pos_up] == ']':\n",
    "        possible_2, new_2 = check_all_below((pos[0] + 1, pos[1] - 1))\n",
    "    if possible_1 and possible_2:\n",
    "        return True, new_values | new_1 | new_2\n",
    "    else:\n",
    "        return False, {}\n",
    "\n",
    "def fill_all_below(values):\n",
    "    new_poses = {}\n",
    "    for new_pos in values:\n",
    "        if (new_pos[0]-1, new_pos[1]) not in values:\n",
    "            new_poses[new_pos] = '.'\n",
    "        else:\n",
    "            new_poses[new_pos] = mapa_b[new_pos[0]-1, new_pos[1]]\n",
    "        new_poses[new_pos[0]+1, new_pos[1]] = mapa_b[new_pos]\n",
    "    for pose, value in new_poses.items():\n",
    "        mapa_b[pose] = value"
   ]
  },
  {
   "cell_type": "code",
   "execution_count": 11,
   "id": "90079d0a",
   "metadata": {},
   "outputs": [],
   "source": [
    "def step_2(cur_pos, action):\n",
    "    possible = True\n",
    "    action_dir = action_map[action]\n",
    "    next_pos = cur_pos[0] + action_dir[0], cur_pos[1] + action_dir[1]\n",
    "    if mapa_b[next_pos] == '#':\n",
    "        return cur_pos\n",
    "    if mapa_b[next_pos] == '.':\n",
    "        mapa_b[cur_pos] = '.'\n",
    "        mapa_b[next_pos] = '@'\n",
    "        return next_pos\n",
    "    if action in ['>', '<']: # move left, right\n",
    "        last_pos = next_pos\n",
    "        while mapa_b[last_pos] in list('[]'):\n",
    "            last_pos = last_pos[0] + action_dir[0], last_pos[1] + action_dir[1]\n",
    "        if mapa_b[last_pos] == '#':\n",
    "            return cur_pos\n",
    "        if action == '>':\n",
    "            mapa_b[\n",
    "                next_pos[0], next_pos[1]+1: last_pos[1]+1] = mapa_b[next_pos[0], next_pos[1]: last_pos[1]]\n",
    "        elif action == '<':\n",
    "            mapa_b[\n",
    "                next_pos[0], last_pos[1]: next_pos[1]] = mapa_b[next_pos[0], last_pos[1] +1: next_pos[1] + 1]\n",
    "        mapa_b[next_pos] = '@'\n",
    "        mapa_b[cur_pos] = '.'\n",
    "            \n",
    "    elif action == '^':\n",
    "        possible, new_values = check_all_above(cur_pos)\n",
    "        if possible:\n",
    "            fill_all_above(new_values)\n",
    "    else:\n",
    "        possible, new_values = check_all_below(cur_pos)\n",
    "        if possible:\n",
    "            fill_all_below(new_values)\n",
    "    return next_pos if possible else cur_pos"
   ]
  },
  {
   "cell_type": "code",
   "execution_count": 12,
   "id": "d3c8c4fc",
   "metadata": {},
   "outputs": [],
   "source": [
    "mapa_b, start_pos, actions = reload_b_map()"
   ]
  },
  {
   "cell_type": "code",
   "execution_count": 13,
   "id": "ad08cafd",
   "metadata": {},
   "outputs": [],
   "source": [
    "pos = start_pos\n",
    "for a in actions:\n",
    "    pos = step_2(pos, a)"
   ]
  },
  {
   "cell_type": "code",
   "execution_count": 14,
   "id": "8d3bb368",
   "metadata": {},
   "outputs": [
    {
     "data": {
      "text/plain": [
       "1495455"
      ]
     },
     "execution_count": 14,
     "metadata": {},
     "output_type": "execute_result"
    }
   ],
   "source": [
    "count_score(mapa_b, '[')"
   ]
  },
  {
   "cell_type": "code",
   "execution_count": null,
   "id": "af73e2b3",
   "metadata": {},
   "outputs": [],
   "source": []
  }
 ],
 "metadata": {
  "kernelspec": {
   "display_name": "Python 3 (ipykernel)",
   "language": "python",
   "name": "python3"
  },
  "language_info": {
   "codemirror_mode": {
    "name": "ipython",
    "version": 3
   },
   "file_extension": ".py",
   "mimetype": "text/x-python",
   "name": "python",
   "nbconvert_exporter": "python",
   "pygments_lexer": "ipython3",
   "version": "3.11.3"
  }
 },
 "nbformat": 4,
 "nbformat_minor": 5
}
