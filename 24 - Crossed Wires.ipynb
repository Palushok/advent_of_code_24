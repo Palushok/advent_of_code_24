{
 "cells": [
  {
   "cell_type": "code",
   "execution_count": 1,
   "id": "b6db2467",
   "metadata": {},
   "outputs": [],
   "source": [
    "from collections import OrderedDict\n",
    "from itertools import combinations, pairwise, product"
   ]
  },
  {
   "cell_type": "code",
   "execution_count": 2,
   "id": "bbeddc4c",
   "metadata": {},
   "outputs": [],
   "source": [
    "with open('data/24.txt', 'r') as f:\n",
    "    data = f.read().split('\\n\\n')"
   ]
  },
  {
   "cell_type": "code",
   "execution_count": 3,
   "id": "43fd0b7e",
   "metadata": {},
   "outputs": [],
   "source": [
    "known = {}\n",
    "for x in data[0].splitlines():\n",
    "    key, value = x.split(': ')\n",
    "    known[key] = int(value)"
   ]
  },
  {
   "cell_type": "code",
   "execution_count": 89,
   "id": "878aed9d",
   "metadata": {},
   "outputs": [],
   "source": [
    "need_to_check = []\n",
    "for line in data[1].split('\\n'):\n",
    "    k1, op, k2, _, k3 = line.split(' ')\n",
    "    need_to_check.append((k1, op, k2, k3))"
   ]
  },
  {
   "cell_type": "code",
   "execution_count": 4,
   "id": "eca60daf",
   "metadata": {},
   "outputs": [],
   "source": [
    "operations = {\n",
    "    'OR': lambda x, y: x | y,\n",
    "    'AND': lambda x, y: x & y,\n",
    "    'XOR':  lambda x, y: x ^ y\n",
    "}"
   ]
  },
  {
   "cell_type": "code",
   "execution_count": 91,
   "id": "bf6a868a",
   "metadata": {},
   "outputs": [],
   "source": [
    "remove = True\n",
    "while remove:\n",
    "    remove = False\n",
    "    for line in need_to_check:\n",
    "        if line[3] not in known and line[0] in known and line[2] in known:\n",
    "            remove = True\n",
    "            known[line[3]] = operations[line[1]](known[line[0]], known[line[2]])\n",
    "            break\n",
    "    if remove:\n",
    "        need_to_check.remove(line)"
   ]
  },
  {
   "cell_type": "code",
   "execution_count": 35,
   "id": "06701034",
   "metadata": {},
   "outputs": [],
   "source": [
    "res = ''.join([str(x) for x in OrderedDict(sorted({k: v for k, v in known.items() if k.startswith('z')}.items(), reverse=True)).values()])"
   ]
  },
  {
   "cell_type": "code",
   "execution_count": 37,
   "id": "1f32154c",
   "metadata": {},
   "outputs": [
    {
     "data": {
      "text/plain": [
       "61495910098126"
      ]
     },
     "execution_count": 37,
     "metadata": {},
     "output_type": "execute_result"
    }
   ],
   "source": [
    "int(res, 2)"
   ]
  },
  {
   "cell_type": "code",
   "execution_count": 57,
   "id": "a5862d47",
   "metadata": {},
   "outputs": [],
   "source": [
    "import numpy as np\n",
    "import math"
   ]
  },
  {
   "cell_type": "code",
   "execution_count": 59,
   "id": "4095be75",
   "metadata": {},
   "outputs": [],
   "source": [
    "import pandas as pd\n",
    "from pyvis.network import Network"
   ]
  },
  {
   "cell_type": "code",
   "execution_count": 203,
   "id": "2dddc5e4",
   "metadata": {},
   "outputs": [],
   "source": [
    "need_to_check = []\n",
    "nodes = []\n",
    "for i, line in enumerate(data[1].split('\\n')):\n",
    "    k1, op, k2, _, k3 = line.split(' ')\n",
    "    need_to_check.append((k1, op+f' {i}'))\n",
    "    need_to_check.append((k2, op+f' {i}'))\n",
    "    need_to_check.append((op+f' {i}', k3))\n",
    "    nodes.extend([k1, k2, op+f' {i}', k3])\n",
    "nodes = list(set(nodes))"
   ]
  },
  {
   "cell_type": "code",
   "execution_count": null,
   "id": "3676b7a2",
   "metadata": {},
   "outputs": [],
   "source": [
    "net = Network(notebook = True, cdn_resources = \"remote\",\n",
    "                bgcolor = \"#222222\",\n",
    "                font_color = \"white\",\n",
    "                height = \"750px\",\n",
    "                width = \"100%\",\n",
    ")\n",
    "# nodes = list(set([*sample.person1,*sample.person2]))\n",
    "edges = need_to_check\n",
    "net.add_nodes(nodes)\n",
    "net.add_edges(edges)\n",
    "net.show(\"graph.html\")"
   ]
  },
  {
   "cell_type": "code",
   "execution_count": 81,
   "id": "98dcf477",
   "metadata": {},
   "outputs": [
    {
     "data": {
      "text/plain": [
       "['kvg OR sgj -> z09', 'gkb OR mgv -> z45', 'vcr AND nwb -> z37']"
      ]
     },
     "execution_count": 81,
     "metadata": {},
     "output_type": "execute_result"
    }
   ],
   "source": [
    "[x for x in data[1].splitlines() if ('XOR' not in x) and '-> z' in x and not x.startswith('y')]"
   ]
  },
  {
   "cell_type": "raw",
   "id": "3034ffc2",
   "metadata": {},
   "source": [
    "jnf XOR wgh -> cwt\n",
    "knc XOR wcq -> gdd\n",
    "vcr XOR nwb -> pqt"
   ]
  },
  {
   "cell_type": "code",
   "execution_count": 6,
   "id": "78a957ce",
   "metadata": {},
   "outputs": [],
   "source": [
    "surely_wrong = [\n",
    "'kvg OR sgj -> z09',\n",
    " 'y05 AND x05 -> z05',\n",
    " 'vcr AND nwb -> z37',\n",
    " 'jnf XOR wgh -> cwt',\n",
    " 'knc XOR wcq -> gdd',\n",
    " 'vcr XOR nwb -> pqt'\n",
    "]"
   ]
  },
  {
   "cell_type": "code",
   "execution_count": null,
   "id": "7010eee6",
   "metadata": {},
   "outputs": [],
   "source": []
  },
  {
   "cell_type": "code",
   "execution_count": 121,
   "id": "e0b21c73",
   "metadata": {},
   "outputs": [
    {
     "data": {
      "text/plain": [
       "17424"
      ]
     },
     "execution_count": 121,
     "metadata": {},
     "output_type": "execute_result"
    }
   ],
   "source": [
    "len([x for x in data[1].splitlines() if not (x.startswith('x') or x.startswith('y'))])*132"
   ]
  },
  {
   "cell_type": "code",
   "execution_count": 114,
   "id": "e9dd384c",
   "metadata": {},
   "outputs": [],
   "source": [
    "known = {}\n",
    "for x in data[0].splitlines():\n",
    "    key, value = x.split(': ')\n",
    "    known[key] = int(value)\n",
    "\n",
    "need_to_check = []\n",
    "for line in data[1].split('\\n'):\n",
    "    k1, op, k2, _, k3 = line.split(' ')\n",
    "    need_to_check.append((k1, op, k2, k3))"
   ]
  },
  {
   "cell_type": "code",
   "execution_count": 7,
   "id": "8516e6fe",
   "metadata": {},
   "outputs": [],
   "source": [
    "from copy import deepcopy"
   ]
  },
  {
   "cell_type": "code",
   "execution_count": 8,
   "id": "2e8561b5",
   "metadata": {},
   "outputs": [],
   "source": [
    "import itertools\n",
    "\n",
    "l1 = surely_wrong[:3]\n",
    "l2 = surely_wrong[3:]\n",
    "\n",
    "# Получаем все перестановки списка l2\n",
    "permutations_l2 = itertools.permutations(l2)\n",
    "\n",
    "# Создаем результаты\n",
    "results = [[[a, b] for a, b in zip(l1, perm)] for perm in permutations_l2]"
   ]
  },
  {
   "cell_type": "code",
   "execution_count": 9,
   "id": "afc96f47",
   "metadata": {},
   "outputs": [
    {
     "data": {
      "text/plain": [
       "[[['kvg OR sgj -> z09', 'jnf XOR wgh -> cwt'],\n",
       "  ['y05 AND x05 -> z05', 'knc XOR wcq -> gdd'],\n",
       "  ['vcr AND nwb -> z37', 'vcr XOR nwb -> pqt']],\n",
       " [['kvg OR sgj -> z09', 'jnf XOR wgh -> cwt'],\n",
       "  ['y05 AND x05 -> z05', 'vcr XOR nwb -> pqt'],\n",
       "  ['vcr AND nwb -> z37', 'knc XOR wcq -> gdd']],\n",
       " [['kvg OR sgj -> z09', 'knc XOR wcq -> gdd'],\n",
       "  ['y05 AND x05 -> z05', 'jnf XOR wgh -> cwt'],\n",
       "  ['vcr AND nwb -> z37', 'vcr XOR nwb -> pqt']],\n",
       " [['kvg OR sgj -> z09', 'knc XOR wcq -> gdd'],\n",
       "  ['y05 AND x05 -> z05', 'vcr XOR nwb -> pqt'],\n",
       "  ['vcr AND nwb -> z37', 'jnf XOR wgh -> cwt']],\n",
       " [['kvg OR sgj -> z09', 'vcr XOR nwb -> pqt'],\n",
       "  ['y05 AND x05 -> z05', 'jnf XOR wgh -> cwt'],\n",
       "  ['vcr AND nwb -> z37', 'knc XOR wcq -> gdd']],\n",
       " [['kvg OR sgj -> z09', 'vcr XOR nwb -> pqt'],\n",
       "  ['y05 AND x05 -> z05', 'knc XOR wcq -> gdd'],\n",
       "  ['vcr AND nwb -> z37', 'jnf XOR wgh -> cwt']]]"
      ]
     },
     "execution_count": 9,
     "metadata": {},
     "output_type": "execute_result"
    }
   ],
   "source": [
    "results"
   ]
  },
  {
   "cell_type": "code",
   "execution_count": 161,
   "id": "604c5848",
   "metadata": {},
   "outputs": [
    {
     "data": {
      "text/plain": [
       "[[['kvg OR sgj -> z09', 'jnf XOR wgh -> cwt'],\n",
       "  ['y05 AND x05 -> z05', 'knc XOR wcq -> gdd'],\n",
       "  ['vcr AND nwb -> z37', 'vcr XOR nwb -> pqt']],\n",
       " [['kvg OR sgj -> z09', 'jnf XOR wgh -> cwt'],\n",
       "  ['y05 AND x05 -> z05', 'vcr XOR nwb -> pqt'],\n",
       "  ['vcr AND nwb -> z37', 'knc XOR wcq -> gdd']],\n",
       " [['kvg OR sgj -> z09', 'knc XOR wcq -> gdd'],\n",
       "  ['y05 AND x05 -> z05', 'jnf XOR wgh -> cwt'],\n",
       "  ['vcr AND nwb -> z37', 'vcr XOR nwb -> pqt']],\n",
       " [['kvg OR sgj -> z09', 'knc XOR wcq -> gdd'],\n",
       "  ['y05 AND x05 -> z05', 'vcr XOR nwb -> pqt'],\n",
       "  ['vcr AND nwb -> z37', 'jnf XOR wgh -> cwt']],\n",
       " [['kvg OR sgj -> z09', 'vcr XOR nwb -> pqt'],\n",
       "  ['y05 AND x05 -> z05', 'jnf XOR wgh -> cwt'],\n",
       "  ['vcr AND nwb -> z37', 'knc XOR wcq -> gdd']],\n",
       " [['kvg OR sgj -> z09', 'vcr XOR nwb -> pqt'],\n",
       "  ['y05 AND x05 -> z05', 'knc XOR wcq -> gdd'],\n",
       "  ['vcr AND nwb -> z37', 'jnf XOR wgh -> cwt']]]"
      ]
     },
     "execution_count": 161,
     "metadata": {},
     "output_type": "execute_result"
    }
   ],
   "source": [
    "results"
   ]
  },
  {
   "cell_type": "code",
   "execution_count": 171,
   "id": "0086c4c6",
   "metadata": {},
   "outputs": [
    {
     "data": {
      "text/plain": [
       "[[['kvg OR sgj -> z09', 'jnf XOR wgh -> cwt'],\n",
       "  ['y05 AND x05 -> z05', 'knc XOR wcq -> gdd'],\n",
       "  ['vcr AND nwb -> z37', 'vcr XOR nwb -> pqt']],\n",
       " [['kvg OR sgj -> z09', 'jnf XOR wgh -> cwt'],\n",
       "  ['y05 AND x05 -> z05', 'vcr XOR nwb -> pqt'],\n",
       "  ['vcr AND nwb -> z37', 'knc XOR wcq -> gdd']],\n",
       " [['kvg OR sgj -> z09', 'knc XOR wcq -> gdd'],\n",
       "  ['y05 AND x05 -> z05', 'jnf XOR wgh -> cwt'],\n",
       "  ['vcr AND nwb -> z37', 'vcr XOR nwb -> pqt']],\n",
       " [['kvg OR sgj -> z09', 'knc XOR wcq -> gdd'],\n",
       "  ['y05 AND x05 -> z05', 'vcr XOR nwb -> pqt'],\n",
       "  ['vcr AND nwb -> z37', 'jnf XOR wgh -> cwt']],\n",
       " [['kvg OR sgj -> z09', 'vcr XOR nwb -> pqt'],\n",
       "  ['y05 AND x05 -> z05', 'jnf XOR wgh -> cwt'],\n",
       "  ['vcr AND nwb -> z37', 'knc XOR wcq -> gdd']],\n",
       " [['kvg OR sgj -> z09', 'vcr XOR nwb -> pqt'],\n",
       "  ['y05 AND x05 -> z05', 'knc XOR wcq -> gdd'],\n",
       "  ['vcr AND nwb -> z37', 'jnf XOR wgh -> cwt']]]"
      ]
     },
     "execution_count": 171,
     "metadata": {},
     "output_type": "execute_result"
    }
   ],
   "source": [
    "results"
   ]
  },
  {
   "cell_type": "code",
   "execution_count": 173,
   "id": "9dbc797e",
   "metadata": {},
   "outputs": [
    {
     "name": "stdout",
     "output_type": "stream",
     "text": [
      "10000\n",
      "20000\n",
      "30000\n",
      "Unexpected exception formatting exception. Falling back to standard exception\n"
     ]
    },
    {
     "name": "stderr",
     "output_type": "stream",
     "text": [
      "Traceback (most recent call last):\n",
      "  File \"/Library/Frameworks/Python.framework/Versions/3.11/lib/python3.11/site-packages/IPython/core/interactiveshell.py\", line 3433, in run_code\n",
      "    exec(code_obj, self.user_global_ns, self.user_ns)\n",
      "  File \"/var/folders/0p/8h87y7r9307143fb5t7nn_j40000gn/T/ipykernel_27920/476130005.py\", line -1, in <module>\n",
      "KeyboardInterrupt\n",
      "\n",
      "During handling of the above exception, another exception occurred:\n",
      "\n",
      "Traceback (most recent call last):\n",
      "  File \"/Library/Frameworks/Python.framework/Versions/3.11/lib/python3.11/site-packages/IPython/core/interactiveshell.py\", line 2052, in showtraceback\n",
      "    stb = self.InteractiveTB.structured_traceback(\n",
      "          ^^^^^^^^^^^^^^^^^^^^^^^^^^^^^^^^^^^^^^^^\n",
      "  File \"/Library/Frameworks/Python.framework/Versions/3.11/lib/python3.11/site-packages/IPython/core/ultratb.py\", line 1118, in structured_traceback\n",
      "    return FormattedTB.structured_traceback(\n",
      "           ^^^^^^^^^^^^^^^^^^^^^^^^^^^^^^^^^\n",
      "  File \"/Library/Frameworks/Python.framework/Versions/3.11/lib/python3.11/site-packages/IPython/core/ultratb.py\", line 1012, in structured_traceback\n",
      "    return VerboseTB.structured_traceback(\n",
      "           ^^^^^^^^^^^^^^^^^^^^^^^^^^^^^^^\n",
      "  File \"/Library/Frameworks/Python.framework/Versions/3.11/lib/python3.11/site-packages/IPython/core/ultratb.py\", line 865, in structured_traceback\n",
      "    formatted_exception = self.format_exception_as_a_whole(etype, evalue, etb, number_of_lines_of_context,\n",
      "                          ^^^^^^^^^^^^^^^^^^^^^^^^^^^^^^^^^^^^^^^^^^^^^^^^^^^^^^^^^^^^^^^^^^^^^^^^^^^^^^^^\n",
      "  File \"/Library/Frameworks/Python.framework/Versions/3.11/lib/python3.11/site-packages/IPython/core/ultratb.py\", line 818, in format_exception_as_a_whole\n",
      "    frames.append(self.format_record(r))\n",
      "                  ^^^^^^^^^^^^^^^^^^^^^\n",
      "  File \"/Library/Frameworks/Python.framework/Versions/3.11/lib/python3.11/site-packages/IPython/core/ultratb.py\", line 736, in format_record\n",
      "    result += ''.join(_format_traceback_lines(frame_info.lines, Colors, self.has_colors, lvals))\n",
      "                                              ^^^^^^^^^^^^^^^^\n",
      "  File \"/Library/Frameworks/Python.framework/Versions/3.11/lib/python3.11/site-packages/stack_data/utils.py\", line 144, in cached_property_wrapper\n",
      "    value = obj.__dict__[self.func.__name__] = self.func(obj)\n",
      "                                               ^^^^^^^^^^^^^^\n",
      "  File \"/Library/Frameworks/Python.framework/Versions/3.11/lib/python3.11/site-packages/stack_data/core.py\", line 734, in lines\n",
      "    pieces = self.included_pieces\n",
      "             ^^^^^^^^^^^^^^^^^^^^\n",
      "  File \"/Library/Frameworks/Python.framework/Versions/3.11/lib/python3.11/site-packages/stack_data/utils.py\", line 144, in cached_property_wrapper\n",
      "    value = obj.__dict__[self.func.__name__] = self.func(obj)\n",
      "                                               ^^^^^^^^^^^^^^\n",
      "  File \"/Library/Frameworks/Python.framework/Versions/3.11/lib/python3.11/site-packages/stack_data/core.py\", line 681, in included_pieces\n",
      "    pos = scope_pieces.index(self.executing_piece)\n",
      "                             ^^^^^^^^^^^^^^^^^^^^\n",
      "  File \"/Library/Frameworks/Python.framework/Versions/3.11/lib/python3.11/site-packages/stack_data/utils.py\", line 144, in cached_property_wrapper\n",
      "    value = obj.__dict__[self.func.__name__] = self.func(obj)\n",
      "                                               ^^^^^^^^^^^^^^\n",
      "  File \"/Library/Frameworks/Python.framework/Versions/3.11/lib/python3.11/site-packages/stack_data/core.py\", line 660, in executing_piece\n",
      "    return only(\n",
      "           ^^^^^\n",
      "  File \"/Library/Frameworks/Python.framework/Versions/3.11/lib/python3.11/site-packages/executing/executing.py\", line 190, in only\n",
      "    raise NotOneValueFound('Expected one value, found 0')\n",
      "executing.executing.NotOneValueFound: Expected one value, found 0\n"
     ]
    }
   ],
   "source": [
    "operations = {\n",
    "    'OR': lambda x, y: x | y,\n",
    "    'AND': lambda x, y: x & y,\n",
    "    'XOR':  lambda x, y: x ^ y\n",
    "}\n",
    "iter_ = 0\n",
    "for res in results:\n",
    "    need_to_check = []\n",
    "    for line in data[1].split('\\n'):\n",
    "        if line  in surely_wrong:\n",
    "            continue\n",
    "        k1, op, k2, _, k3 = line.split(' ')\n",
    "        need_to_check.append((k1, op, k2, k3))\n",
    "    \n",
    "    for i, j in res:\n",
    "        k1, op, k2, _, k3 = i.split(' ')\n",
    "        k1_2, op_2, k2_2, _, k3_2 = j.split(' ')\n",
    "        need_to_check.append((k1, op, k2, k3_2))\n",
    "        need_to_check.append((k2_2, op_2, k2_2, k3))\n",
    "\n",
    "    for one in need_to_check[:-6]:\n",
    "        for two in need_to_check[:-6]:\n",
    "            if 'css' in [one[-1], two[-1]] and 'jmv' in [one[-1], two[-1]]:\n",
    "                print(one, two)\n",
    "                for o in res:\n",
    "                    print(o)\n",
    "                print('_____')\n",
    "            iter_ += 1\n",
    "            if one == two:\n",
    "                continue\n",
    "            if iter_ % 10000 == 0:\n",
    "                print(iter_)\n",
    "            known = {}\n",
    "            for x in data[0].splitlines():\n",
    "                key, value = x.split(': ')\n",
    "                known[key] = int(value)\n",
    "\n",
    "            truly_need_to_check = deepcopy(need_to_check)\n",
    "            truly_need_to_check.remove(one)\n",
    "            truly_need_to_check.remove(two)\n",
    "            truly_need_to_check.append(tuple(list(one[:-1]) + list(two[-1:])))\n",
    "            truly_need_to_check.append(tuple(list(two[:-1]) + list(one[-1:])))\n",
    "\n",
    "\n",
    "            remove = True\n",
    "            while remove:\n",
    "                remove = False\n",
    "                for line in truly_need_to_check:\n",
    "                    if line[3] not in known and line[0] in known and line[2] in known:\n",
    "                        remove = True\n",
    "                        known[line[3]] = operations[line[1]](known[line[0]], known[line[2]])\n",
    "                        break\n",
    "                if remove:\n",
    "                    truly_need_to_check.remove(line)\n",
    "\n",
    "            x = ''.join([str(x) for x in OrderedDict(sorted({k: v for k, v in known.items() if k.startswith('x')}.items(), reverse=True)).values()])\n",
    "            y = ''.join([str(x) for x in OrderedDict(sorted({k: v for k, v in known.items() if k.startswith('y')}.items(), reverse=True)).values()])\n",
    "            z = ''.join([str(x) for x in OrderedDict(sorted({k: v for k, v in known.items() if k.startswith('z')}.items(), reverse=True)).values()])\n",
    "            if int(x, 2) + int(y, 2) == int(z, 2):\n",
    "                print(one, two)\n",
    "                1/0"
   ]
  },
  {
   "cell_type": "code",
   "execution_count": 174,
   "id": "9af1f2fc",
   "metadata": {},
   "outputs": [
    {
     "data": {
      "text/plain": [
       "[('kgv', 'OR', 'rdq', 'stt'),\n",
       " ('y00', 'AND', 'x00', 'pjf'),\n",
       " ('y13', 'XOR', 'x13', 'wqh'),\n",
       " ('y21', 'AND', 'x21', 'ccs'),\n",
       " ('wws', 'AND', 'cds', 'kgv'),\n",
       " ('x09', 'AND', 'y09', 'sgj'),\n",
       " ('x14', 'XOR', 'y14', 'tnm'),\n",
       " ('msn', 'OR', 'ssj', 'vfb'),\n",
       " ('cwt', 'AND', 'wfd', 'wjk'),\n",
       " ('y41', 'XOR', 'x41', 'fsh'),\n",
       " ('jhn', 'AND', 'hjd', 'nfk'),\n",
       " ('trk', 'OR', 'trs', 'nvk'),\n",
       " ('bkg', 'AND', 'tgw', 'vrw'),\n",
       " ('dvr', 'OR', 'wtv', 'dwg'),\n",
       " ('vch', 'AND', 'css', 'cjn'),\n",
       " ('wmf', 'AND', 'mdn', 'qnn'),\n",
       " ('gbv', 'AND', 'pth', 'hns'),\n",
       " ('jgb', 'AND', 'qbm', 'jdb'),\n",
       " ('x05', 'XOR', 'y05', 'wcq'),\n",
       " ('gtv', 'OR', 'pjr', 'crc'),\n",
       " ('y23', 'XOR', 'x23', 'vph'),\n",
       " ('jwq', 'AND', 'fqf', 'tgv'),\n",
       " ('y38', 'XOR', 'x38', 'ghm'),\n",
       " ('dgc', 'OR', 'ntm', 'hrs'),\n",
       " ('y22', 'XOR', 'x22', 'tgw'),\n",
       " ('stt', 'AND', 'wcr', 'krw'),\n",
       " ('gvt', 'AND', 'kns', 'nmv'),\n",
       " ('y03', 'AND', 'x03', 'scc'),\n",
       " ('x42', 'XOR', 'y42', 'vcf'),\n",
       " ('jbj', 'OR', 'rrc', 'cvn'),\n",
       " ('pth', 'XOR', 'gbv', 'z17'),\n",
       " ('hpb', 'OR', 'scc', 'ngk'),\n",
       " ('mvf', 'XOR', 'hrs', 'z29'),\n",
       " ('x17', 'XOR', 'y17', 'gbv'),\n",
       " ('y22', 'AND', 'x22', 'kkq'),\n",
       " ('y37', 'XOR', 'x37', 'vcr'),\n",
       " ('sqq', 'XOR', 'fgt', 'z36'),\n",
       " ('wcq', 'AND', 'knc', 'gnw'),\n",
       " ('krw', 'OR', 'hbj', 'nkt'),\n",
       " ('hpm', 'OR', 'mrw', 'knc'),\n",
       " ('vts', 'OR', 'hsk', 'vfw'),\n",
       " ('y19', 'AND', 'x19', 'sjt'),\n",
       " ('qbm', 'XOR', 'jgb', 'z21'),\n",
       " ('x28', 'AND', 'y28', 'ntm'),\n",
       " ('bwv', 'XOR', 'wsh', 'z12'),\n",
       " ('y43', 'XOR', 'x43', 'cch'),\n",
       " ('vfb', 'XOR', 'fpt', 'z03'),\n",
       " ('qkc', 'OR', 'sqw', 'hjd'),\n",
       " ('vqr', 'OR', 'ndj', 'fqf'),\n",
       " ('mcf', 'AND', 'cch', 'kcq'),\n",
       " ('qjb', 'XOR', 'kjr', 'z35'),\n",
       " ('y44', 'AND', 'x44', 'mgv'),\n",
       " ('vfw', 'AND', 'mqt', 'ndj'),\n",
       " ('x34', 'XOR', 'y34', 'jwk'),\n",
       " ('jnf', 'AND', 'wgh', 'kvg'),\n",
       " ('x41', 'AND', 'y41', 'dqw'),\n",
       " ('x02', 'AND', 'y02', 'msn'),\n",
       " ('vfb', 'AND', 'fpt', 'hpb'),\n",
       " ('swb', 'AND', 'qvq', 'gtv'),\n",
       " ('vnq', 'XOR', 'wqh', 'z13'),\n",
       " ('trn', 'XOR', 'pgk', 'z06'),\n",
       " ('cvn', 'XOR', 'gmp', 'z30'),\n",
       " ('vfw', 'XOR', 'mqt', 'z07'),\n",
       " ('ctf', 'XOR', 'tnm', 'z14'),\n",
       " ('hwb', 'OR', 'wmb', 'ctf'),\n",
       " ('ghm', 'XOR', 'hjg', 'z38'),\n",
       " ('wkt', 'OR', 'qjj', 'tgj'),\n",
       " ('kcq', 'OR', 'dcc', 'cpw'),\n",
       " ('x06', 'XOR', 'y06', 'pgk'),\n",
       " ('cjn', 'OR', 'jmv', 'jgb'),\n",
       " ('y00', 'XOR', 'x00', 'z00'),\n",
       " ('mdn', 'XOR', 'wmf', 'z39'),\n",
       " ('y36', 'AND', 'x36', 'gst'),\n",
       " ('tgw', 'XOR', 'bkg', 'z22'),\n",
       " ('tgv', 'OR', 'cfk', 'wgh'),\n",
       " ('y25', 'XOR', 'x25', 'ktd'),\n",
       " ('wdj', 'AND', 'fvw', 'dvr'),\n",
       " ('kbk', 'OR', 'wpm', 'sgn'),\n",
       " ('x44', 'XOR', 'y44', 'dph'),\n",
       " ('wsh', 'AND', 'bwv', 'tnr'),\n",
       " ('y24', 'XOR', 'x24', 'skp'),\n",
       " ('y30', 'XOR', 'x30', 'gmp'),\n",
       " ('x11', 'AND', 'y11', 'rsw'),\n",
       " ('qnn', 'OR', 'rrn', 'fvw'),\n",
       " ('x34', 'AND', 'y34', 'hgg'),\n",
       " ('wcs', 'OR', 'rpr', 'fgt'),\n",
       " ('x07', 'AND', 'y07', 'vqr'),\n",
       " ('fvw', 'XOR', 'wdj', 'z40'),\n",
       " ('y29', 'AND', 'x29', 'rrc'),\n",
       " ('fsh', 'XOR', 'dwg', 'z41'),\n",
       " ('cpw', 'XOR', 'dph', 'z44'),\n",
       " ('y32', 'XOR', 'x32', 'hbg'),\n",
       " ('pjf', 'AND', 'fcg', 'vms'),\n",
       " ('cwt', 'XOR', 'wfd', 'z10'),\n",
       " ('x27', 'AND', 'y27', 'hbj'),\n",
       " ('y04', 'AND', 'x04', 'mrw'),\n",
       " ('vcf', 'XOR', 'btn', 'z42'),\n",
       " ('vnq', 'AND', 'wqh', 'wmb'),\n",
       " ('x43', 'AND', 'y43', 'dcc'),\n",
       " ('vrw', 'OR', 'kkq', 'jjr'),\n",
       " ('cds', 'XOR', 'wws', 'z26'),\n",
       " ('x39', 'XOR', 'y39', 'wmf'),\n",
       " ('y29', 'XOR', 'x29', 'mvf'),\n",
       " ('rfn', 'OR', 'pmm', 'mhh'),\n",
       " ('y35', 'XOR', 'x35', 'qjb'),\n",
       " ('ngk', 'XOR', 'vvf', 'z04'),\n",
       " ('kht', 'OR', 'gfk', 'cds'),\n",
       " ('bgb', 'OR', 'tnr', 'vnq'),\n",
       " ('kns', 'XOR', 'gvt', 'z33'),\n",
       " ('sjt', 'OR', 'pbd', 'vch'),\n",
       " ('hvp', 'OR', 'nfk', 'pth'),\n",
       " ('x38', 'AND', 'y38', 'dtt'),\n",
       " ('y18', 'AND', 'x18', 'pjr'),\n",
       " ('x07', 'XOR', 'y07', 'mqt'),\n",
       " ('gst', 'OR', 'bmm', 'nwb'),\n",
       " ('y21', 'XOR', 'x21', 'qbm'),\n",
       " ('jwk', 'AND', 'gfr', 'cph'),\n",
       " ('nvk', 'XOR', 'brp', 'z31'),\n",
       " ('x17', 'AND', 'y17', 'nkr'),\n",
       " ('sqt', 'OR', 'nqs', 'kns'),\n",
       " ('qbs', 'OR', 'vht', 'sfw'),\n",
       " ('brp', 'AND', 'nvk', 'rfn'),\n",
       " ('hrs', 'AND', 'mvf', 'jbj'),\n",
       " ('x12', 'AND', 'y12', 'bgb'),\n",
       " ('y36', 'XOR', 'x36', 'sqq'),\n",
       " ('jdb', 'OR', 'ccs', 'bkg'),\n",
       " ('x04', 'XOR', 'y04', 'vvf'),\n",
       " ('y19', 'XOR', 'x19', 'vmj'),\n",
       " ('vms', 'OR', 'vpb', 'kmq'),\n",
       " ('y35', 'AND', 'x35', 'wcs'),\n",
       " ('vph', 'AND', 'jjr', 'qbs'),\n",
       " ('fgt', 'AND', 'sqq', 'bmm'),\n",
       " ('vcf', 'AND', 'btn', 'fbb'),\n",
       " ('wjk', 'OR', 'ktk', 'kmn'),\n",
       " ('x08', 'AND', 'y08', 'cfk'),\n",
       " ('y01', 'XOR', 'x01', 'fcg'),\n",
       " ('y23', 'AND', 'x23', 'vht'),\n",
       " ('kgm', 'AND', 'nkt', 'dgc'),\n",
       " ('swb', 'XOR', 'qvq', 'z18'),\n",
       " ('x09', 'XOR', 'y09', 'jnf'),\n",
       " ('cch', 'XOR', 'mcf', 'z43'),\n",
       " ('sgn', 'XOR', 'smv', 'z15'),\n",
       " ('y40', 'XOR', 'x40', 'wdj'),\n",
       " ('gnw', 'OR', 'gdd', 'trn'),\n",
       " ('dgn', 'OR', 'pqt', 'hjg'),\n",
       " ('y30', 'AND', 'x30', 'trs'),\n",
       " ('ngk', 'AND', 'vvf', 'hpm'),\n",
       " ('y12', 'XOR', 'x12', 'bwv'),\n",
       " ('kmn', 'XOR', 'dmk', 'z11'),\n",
       " ('y20', 'AND', 'x20', 'css'),\n",
       " ('stt', 'XOR', 'wcr', 'z27'),\n",
       " ('vph', 'XOR', 'jjr', 'z23'),\n",
       " ('nmv', 'OR', 'wjj', 'gfr'),\n",
       " ('x02', 'XOR', 'y02', 'jdc'),\n",
       " ('y28', 'XOR', 'x28', 'kgm'),\n",
       " ('gfr', 'XOR', 'jwk', 'z34'),\n",
       " ('x16', 'AND', 'y16', 'hvp'),\n",
       " ('gkb', 'OR', 'mgv', 'z45'),\n",
       " ('mhh', 'AND', 'hbg', 'sqt'),\n",
       " ('fqf', 'XOR', 'jwq', 'z08'),\n",
       " ('x13', 'AND', 'y13', 'hwb'),\n",
       " ('vmj', 'AND', 'crc', 'pbd'),\n",
       " ('dwg', 'AND', 'fsh', 'brb'),\n",
       " ('sfw', 'AND', 'skp', 'qjj'),\n",
       " ('x31', 'XOR', 'y31', 'brp'),\n",
       " ('fcg', 'XOR', 'pjf', 'z01'),\n",
       " ('dqw', 'OR', 'brb', 'btn'),\n",
       " ('cvn', 'AND', 'gmp', 'trk'),\n",
       " ('y16', 'XOR', 'x16', 'jhn'),\n",
       " ('y27', 'XOR', 'x27', 'wcr'),\n",
       " ('x33', 'XOR', 'y33', 'gvt'),\n",
       " ('y08', 'XOR', 'x08', 'jwq'),\n",
       " ('trn', 'AND', 'pgk', 'hsk'),\n",
       " ('nkt', 'XOR', 'kgm', 'z28'),\n",
       " ('y15', 'AND', 'x15', 'sqw'),\n",
       " ('crc', 'XOR', 'vmj', 'z19'),\n",
       " ('hbg', 'XOR', 'mhh', 'z32'),\n",
       " ('smv', 'AND', 'sgn', 'qkc'),\n",
       " ('x14', 'AND', 'y14', 'kbk'),\n",
       " ('jhn', 'XOR', 'hjd', 'z16'),\n",
       " ('x10', 'AND', 'y10', 'ktk'),\n",
       " ('kmq', 'AND', 'jdc', 'ssj'),\n",
       " ('y15', 'XOR', 'x15', 'smv'),\n",
       " ('sqd', 'OR', 'dtt', 'mdn'),\n",
       " ('x24', 'AND', 'y24', 'wkt'),\n",
       " ('hgg', 'OR', 'cph', 'kjr'),\n",
       " ('ktd', 'XOR', 'tgj', 'z25'),\n",
       " ('ctf', 'AND', 'tnm', 'wpm'),\n",
       " ('x40', 'AND', 'y40', 'wtv'),\n",
       " ('x10', 'XOR', 'y10', 'wfd'),\n",
       " ('y33', 'AND', 'x33', 'wjj'),\n",
       " ('x39', 'AND', 'y39', 'rrn'),\n",
       " ('y03', 'XOR', 'x03', 'fpt'),\n",
       " ('x31', 'AND', 'y31', 'pmm'),\n",
       " ('y32', 'AND', 'x32', 'nqs'),\n",
       " ('x11', 'XOR', 'y11', 'dmk'),\n",
       " ('y18', 'XOR', 'x18', 'qvq'),\n",
       " ('x37', 'AND', 'y37', 'dgn'),\n",
       " ('skq', 'OR', 'rsw', 'wsh'),\n",
       " ('vch', 'XOR', 'css', 'z20'),\n",
       " ('kmn', 'AND', 'dmk', 'skq'),\n",
       " ('ghm', 'AND', 'hjg', 'sqd'),\n",
       " ('kjr', 'AND', 'qjb', 'rpr'),\n",
       " ('y01', 'AND', 'x01', 'vpb'),\n",
       " ('cpw', 'AND', 'dph', 'gkb'),\n",
       " ('y26', 'AND', 'x26', 'rdq'),\n",
       " ('tgj', 'AND', 'ktd', 'kht'),\n",
       " ('x26', 'XOR', 'y26', 'wws'),\n",
       " ('sfw', 'XOR', 'skp', 'z24'),\n",
       " ('y42', 'AND', 'x42', 'thc'),\n",
       " ('nkr', 'OR', 'hns', 'swb'),\n",
       " ('y20', 'XOR', 'x20', 'jmv'),\n",
       " ('fbb', 'OR', 'thc', 'mcf'),\n",
       " ('x06', 'AND', 'y06', 'vts'),\n",
       " ('jdc', 'XOR', 'kmq', 'z02'),\n",
       " ('y25', 'AND', 'x25', 'gfk'),\n",
       " ('kvg', 'OR', 'sgj', 'cwt'),\n",
       " ('wgh', 'XOR', 'wgh', 'z09'),\n",
       " ('y05', 'AND', 'x05', 'gdd'),\n",
       " ('wcq', 'XOR', 'wcq', 'z05'),\n",
       " ('vcr', 'AND', 'nwb', 'pqt'),\n",
       " ('nwb', 'XOR', 'nwb', 'z37')]"
      ]
     },
     "execution_count": 174,
     "metadata": {},
     "output_type": "execute_result"
    }
   ],
   "source": [
    "need_to_check"
   ]
  },
  {
   "cell_type": "code",
   "execution_count": null,
   "id": "76a17689",
   "metadata": {},
   "outputs": [],
   "source": []
  },
  {
   "cell_type": "code",
   "execution_count": 133,
   "id": "4acf63a6",
   "metadata": {},
   "outputs": [
    {
     "data": {
      "text/plain": [
       "('110001101110101110000110110011011111010101111',\n",
       " '111110011000010110001000101101010010000011111',\n",
       " '011111110011001010')"
      ]
     },
     "execution_count": 133,
     "metadata": {},
     "output_type": "execute_result"
    }
   ],
   "source": [
    "x, y, z"
   ]
  },
  {
   "cell_type": "code",
   "execution_count": null,
   "id": "79ff7500",
   "metadata": {},
   "outputs": [],
   "source": []
  },
  {
   "cell_type": "code",
   "execution_count": null,
   "id": "71f25696",
   "metadata": {},
   "outputs": [],
   "source": []
  },
  {
   "cell_type": "code",
   "execution_count": null,
   "id": "7a9d40b1",
   "metadata": {},
   "outputs": [],
   "source": []
  },
  {
   "cell_type": "code",
   "execution_count": null,
   "id": "853bfe02",
   "metadata": {},
   "outputs": [],
   "source": []
  },
  {
   "cell_type": "code",
   "execution_count": null,
   "id": "001fb974",
   "metadata": {},
   "outputs": [],
   "source": []
  },
  {
   "cell_type": "code",
   "execution_count": null,
   "id": "8ec5cc10",
   "metadata": {},
   "outputs": [],
   "source": []
  },
  {
   "cell_type": "code",
   "execution_count": null,
   "id": "12aa9227",
   "metadata": {},
   "outputs": [],
   "source": []
  },
  {
   "cell_type": "code",
   "execution_count": 140,
   "id": "09d43629",
   "metadata": {},
   "outputs": [
    {
     "name": "stdout",
     "output_type": "stream",
     "text": [
      "css,cwt,gdd,jmv,pqt,z05,z09,z37\n"
     ]
    },
    {
     "name": "stderr",
     "output_type": "stream",
     "text": [
      "sh: cls: command not found\n"
     ]
    }
   ],
   "source": [
    "import os\n",
    "os.system('cls')\n",
    "\n",
    "\n",
    "def read_input_file(file_path: str) -> list[str]:\n",
    "    with open(file=file_path, mode=\"r\") as input_file:\n",
    "        lines = input_file.readlines()\n",
    "        return [line.strip() for line in lines]\n",
    "\n",
    "\n",
    "def find_gate(x_wire: str, y_wire: str, gate_type: str, configurations: list[str]):\n",
    "    sub_str_a = f'{x_wire} {gate_type} {y_wire} -> '\n",
    "    sub_str_b = f'{y_wire} {gate_type} {x_wire} -> '\n",
    "\n",
    "    for config in configurations:\n",
    "        if (sub_str_a in config) or (sub_str_b in config):\n",
    "            return config.split(' -> ')[-1]\n",
    "\n",
    "\n",
    "def swap_output_wires(wire_a: str, wire_b: str, configurations: list[str]):\n",
    "    new_configurations = []\n",
    "\n",
    "    for config in configurations:\n",
    "        input_wires, output_wire = config.split(' -> ')\n",
    "\n",
    "        if output_wire == wire_a:\n",
    "            new_configurations.append(' -> '.join([input_wires] + [wire_b]))\n",
    "        \n",
    "        elif output_wire == wire_b:\n",
    "            new_configurations.append(' -> '.join([input_wires] + [wire_a]))\n",
    "        \n",
    "        else:\n",
    "            new_configurations.append(' -> '.join([input_wires] + [output_wire]))\n",
    "\n",
    "    return new_configurations\n",
    "\n",
    "\n",
    "def check_parallel_adders(configurations: list[str]):\n",
    "    current_carry_wire = None\n",
    "    swaps = []\n",
    "    bit = 0\n",
    "\n",
    "    while True:\n",
    "        x_wire = f'x{bit:02d}'\n",
    "        y_wire = f'y{bit:02d}'\n",
    "        z_wire = f'z{bit:02d}'\n",
    "\n",
    "        if bit==0:\n",
    "            current_carry_wire = find_gate(x_wire, y_wire, 'AND', configurations)\n",
    "        else:\n",
    "            ab_xor_gate = find_gate(x_wire, y_wire, 'XOR', configurations)\n",
    "            ab_and_gate = find_gate(x_wire, y_wire, 'AND', configurations)\n",
    "\n",
    "            cin_ab_xor_gate = find_gate(ab_xor_gate, current_carry_wire, 'XOR', configurations)\n",
    "            if cin_ab_xor_gate is None:\n",
    "                swaps.append(ab_xor_gate)\n",
    "                swaps.append(ab_and_gate)\n",
    "                configurations = swap_output_wires(ab_xor_gate, ab_and_gate, configurations)\n",
    "                bit = 0\n",
    "                continue\n",
    "            \n",
    "            if cin_ab_xor_gate != z_wire:\n",
    "                swaps.append(cin_ab_xor_gate)\n",
    "                swaps.append(z_wire)\n",
    "                configurations = swap_output_wires(cin_ab_xor_gate, z_wire, configurations)\n",
    "                bit = 0\n",
    "                continue\n",
    "\n",
    "            cin_ab_and_gate = find_gate(ab_xor_gate, current_carry_wire, 'AND', configurations)\n",
    "            \n",
    "            carry_wire = find_gate(ab_and_gate, cin_ab_and_gate, 'OR', configurations)\n",
    "            current_carry_wire = carry_wire\n",
    "        \n",
    "        bit += 1\n",
    "        if bit >= 45:\n",
    "            break\n",
    "    \n",
    "    return swaps\n",
    "\n",
    "\n",
    "\n",
    "def solution(lines: list[str]):\n",
    "    divider = lines.index('')\n",
    "    configurations = lines[divider+1:]\n",
    "\n",
    "    swaps = check_parallel_adders(configurations)\n",
    "    print(','.join(sorted(swaps)))\n",
    "\n",
    "\n",
    "lines = read_input_file(file_path=\"data/24.txt\")\n",
    "solution(lines)"
   ]
  },
  {
   "cell_type": "code",
   "execution_count": null,
   "id": "1bf49735",
   "metadata": {},
   "outputs": [],
   "source": [
    "'css', 'jmv'"
   ]
  },
  {
   "cell_type": "code",
   "execution_count": 141,
   "id": "fa530b3c",
   "metadata": {},
   "outputs": [
    {
     "data": {
      "text/plain": [
       "'cwt,gdd,pqt,z09,z37,z45'"
      ]
     },
     "execution_count": 141,
     "metadata": {},
     "output_type": "execute_result"
    }
   ],
   "source": [
    "','.join(sorted(['z09', 'z45', 'z37', 'cwt', 'gdd', 'pqt']))"
   ]
  },
  {
   "cell_type": "code",
   "execution_count": 153,
   "id": "7340f3e8",
   "metadata": {},
   "outputs": [],
   "source": [
    "surely_wrong[1] = 'y05 AND x05 -> z05'"
   ]
  },
  {
   "cell_type": "code",
   "execution_count": 165,
   "id": "a0ce3da4",
   "metadata": {},
   "outputs": [
    {
     "data": {
      "text/plain": [
       "['kvg OR sgj -> z09',\n",
       " 'y05 AND x05 -> z05',\n",
       " 'vcr AND nwb -> z37',\n",
       " 'jnf XOR wgh -> cwt',\n",
       " 'knc XOR wcq -> gdd',\n",
       " 'vcr XOR nwb -> pqt']"
      ]
     },
     "execution_count": 165,
     "metadata": {},
     "output_type": "execute_result"
    }
   ],
   "source": [
    "surely_wrong"
   ]
  },
  {
   "cell_type": "code",
   "execution_count": 10,
   "id": "82d58fb9",
   "metadata": {},
   "outputs": [],
   "source": [
    "def find_all_about(node):\n",
    "    return [x for x in data[1].splitlines() if node in x]"
   ]
  },
  {
   "cell_type": "code",
   "execution_count": 43,
   "id": "0184c8c9",
   "metadata": {},
   "outputs": [
    {
     "data": {
      "text/plain": [
       "['y01 XOR x01 -> fcg', 'y01 AND x01 -> vpb']"
      ]
     },
     "execution_count": 43,
     "metadata": {},
     "output_type": "execute_result"
    }
   ],
   "source": [
    "find_all_about('x01')"
   ]
  },
  {
   "cell_type": "code",
   "execution_count": 44,
   "id": "c41c5377",
   "metadata": {},
   "outputs": [
    {
     "data": {
      "text/plain": [
       "['vms OR vpb -> kmq', 'y01 AND x01 -> vpb']"
      ]
     },
     "execution_count": 44,
     "metadata": {},
     "output_type": "execute_result"
    }
   ],
   "source": [
    "find_all_about('vpb')"
   ]
  },
  {
   "cell_type": "markdown",
   "id": "c4be86a1",
   "metadata": {},
   "source": [
    "_"
   ]
  },
  {
   "cell_type": "code",
   "execution_count": 12,
   "id": "0e65339e",
   "metadata": {},
   "outputs": [
    {
     "data": {
      "text/plain": [
       "['y18 AND x18 -> pjr', 'y18 XOR x18 -> qvq']"
      ]
     },
     "execution_count": 12,
     "metadata": {},
     "output_type": "execute_result"
    }
   ],
   "source": [
    "find_all_about('x18')"
   ]
  },
  {
   "cell_type": "code",
   "execution_count": null,
   "id": "cc862850",
   "metadata": {},
   "outputs": [],
   "source": []
  },
  {
   "cell_type": "code",
   "execution_count": 13,
   "id": "b16e0aab",
   "metadata": {},
   "outputs": [
    {
     "data": {
      "text/plain": [
       "['swb AND qvq -> gtv', 'swb XOR qvq -> z18', 'y18 XOR x18 -> qvq']"
      ]
     },
     "execution_count": 13,
     "metadata": {},
     "output_type": "execute_result"
    }
   ],
   "source": [
    "find_all_about('qvq')"
   ]
  },
  {
   "cell_type": "code",
   "execution_count": null,
   "id": "a38b50ae",
   "metadata": {},
   "outputs": [],
   "source": []
  },
  {
   "cell_type": "code",
   "execution_count": 17,
   "id": "c2b48552",
   "metadata": {},
   "outputs": [
    {
     "data": {
      "text/plain": [
       "['y19 AND x19 -> sjt', 'y19 XOR x19 -> vmj']"
      ]
     },
     "execution_count": 17,
     "metadata": {},
     "output_type": "execute_result"
    }
   ],
   "source": [
    "find_all_about('x19')"
   ]
  },
  {
   "cell_type": "code",
   "execution_count": 18,
   "id": "050e54b0",
   "metadata": {},
   "outputs": [
    {
     "data": {
      "text/plain": [
       "['y19 XOR x19 -> vmj', 'vmj AND crc -> pbd', 'crc XOR vmj -> z19']"
      ]
     },
     "execution_count": 18,
     "metadata": {},
     "output_type": "execute_result"
    }
   ],
   "source": [
    "find_all_about('vmj')"
   ]
  },
  {
   "cell_type": "code",
   "execution_count": 11,
   "id": "6451b457",
   "metadata": {},
   "outputs": [
    {
     "data": {
      "text/plain": [
       "['vch AND css -> cjn', 'y20 AND x20 -> css', 'vch XOR css -> z20']"
      ]
     },
     "execution_count": 11,
     "metadata": {},
     "output_type": "execute_result"
    }
   ],
   "source": [
    "find_all_about('css')"
   ]
  },
  {
   "cell_type": "code",
   "execution_count": null,
   "id": "1152b0b6",
   "metadata": {},
   "outputs": [],
   "source": []
  },
  {
   "cell_type": "code",
   "execution_count": 19,
   "id": "db7aaf77",
   "metadata": {},
   "outputs": [
    {
     "data": {
      "text/plain": [
       "['y20 AND x20 -> css', 'y20 XOR x20 -> jmv']"
      ]
     },
     "execution_count": 19,
     "metadata": {},
     "output_type": "execute_result"
    }
   ],
   "source": [
    "find_all_about('x20')"
   ]
  },
  {
   "cell_type": "code",
   "execution_count": 20,
   "id": "63c7f70a",
   "metadata": {},
   "outputs": [
    {
     "data": {
      "text/plain": [
       "['cjn OR jmv -> jgb', 'y20 XOR x20 -> jmv']"
      ]
     },
     "execution_count": 20,
     "metadata": {},
     "output_type": "execute_result"
    }
   ],
   "source": [
    "find_all_about('jmv')"
   ]
  },
  {
   "cell_type": "code",
   "execution_count": 31,
   "id": "07f04f27",
   "metadata": {},
   "outputs": [
    {
     "data": {
      "text/plain": [
       "'01'"
      ]
     },
     "execution_count": 31,
     "metadata": {},
     "output_type": "execute_result"
    }
   ],
   "source": [
    "a = 1\n",
    "f'{a:02}'"
   ]
  },
  {
   "cell_type": "code",
   "execution_count": 32,
   "id": "df79449b",
   "metadata": {},
   "outputs": [],
   "source": [
    "def find_all_ops(lines):\n",
    "    res = []\n",
    "    for l in lines:\n",
    "        res.append(l.split(' ')[1])\n",
    "    return res"
   ]
  },
  {
   "cell_type": "code",
   "execution_count": 33,
   "id": "aca82369",
   "metadata": {},
   "outputs": [
    {
     "data": {
      "text/plain": [
       "['AND', 'XOR']"
      ]
     },
     "execution_count": 33,
     "metadata": {},
     "output_type": "execute_result"
    }
   ],
   "source": [
    "find_all_ops(find_all_about(f'x02'))"
   ]
  },
  {
   "cell_type": "code",
   "execution_count": 37,
   "id": "2679745a",
   "metadata": {},
   "outputs": [
    {
     "data": {
      "text/plain": [
       "'x44 XOR y44 -> dph'"
      ]
     },
     "execution_count": 37,
     "metadata": {},
     "output_type": "execute_result"
    }
   ],
   "source": [
    "v"
   ]
  },
  {
   "cell_type": "code",
   "execution_count": null,
   "id": "ac7f74c4",
   "metadata": {},
   "outputs": [],
   "source": []
  },
  {
   "cell_type": "code",
   "execution_count": 45,
   "id": "0feb3558",
   "metadata": {},
   "outputs": [
    {
     "name": "stdout",
     "output_type": "stream",
     "text": [
      "y00 AND x00 -> pjf ['AND', 'AND', 'XOR']\n",
      "y01 AND x01 -> vpb ['OR', 'AND']\n",
      "x02 AND y02 -> msn ['OR', 'AND']\n",
      "y03 AND x03 -> scc ['AND', 'OR']\n",
      "y04 AND x04 -> mrw ['OR', 'AND']\n",
      "y05 AND x05 -> z05 ['AND']\n",
      "x06 AND y06 -> vts ['OR', 'AND']\n",
      "x07 AND y07 -> vqr ['OR', 'AND']\n",
      "x08 AND y08 -> cfk ['OR', 'AND']\n",
      "x09 AND y09 -> sgj ['AND', 'OR']\n",
      "x10 AND y10 -> ktk ['OR', 'AND']\n",
      "x11 AND y11 -> rsw ['AND', 'OR']\n",
      "x12 AND y12 -> bgb ['OR', 'AND']\n",
      "x13 AND y13 -> hwb ['OR', 'AND']\n",
      "x14 AND y14 -> kbk ['OR', 'AND']\n",
      "y15 AND x15 -> sqw ['OR', 'AND']\n",
      "x16 AND y16 -> hvp ['OR', 'AND']\n",
      "x17 AND y17 -> nkr ['AND', 'OR']\n",
      "y18 AND x18 -> pjr ['OR', 'AND']\n",
      "y19 AND x19 -> sjt ['AND', 'OR']\n",
      "y20 AND x20 -> css ['AND', 'AND', 'XOR']\n",
      "y21 AND x21 -> ccs ['AND', 'OR']\n",
      "y22 AND x22 -> kkq ['AND', 'OR']\n",
      "y23 AND x23 -> vht ['OR', 'AND']\n",
      "x24 AND y24 -> wkt ['OR', 'AND']\n",
      "y25 AND x25 -> gfk ['OR', 'AND']\n",
      "y26 AND x26 -> rdq ['OR', 'AND']\n",
      "x27 AND y27 -> hbj ['OR', 'AND']\n",
      "x28 AND y28 -> ntm ['OR', 'AND']\n",
      "y29 AND x29 -> rrc ['OR', 'AND']\n",
      "y30 AND x30 -> trs ['OR', 'AND']\n",
      "x31 AND y31 -> pmm ['OR', 'AND']\n",
      "y32 AND x32 -> nqs ['OR', 'AND']\n",
      "y33 AND x33 -> wjj ['OR', 'AND']\n",
      "x34 AND y34 -> hgg ['AND', 'OR']\n",
      "y35 AND x35 -> wcs ['OR', 'AND']\n",
      "y36 AND x36 -> gst ['AND', 'OR']\n",
      "x37 AND y37 -> dgn ['OR', 'AND']\n",
      "x38 AND y38 -> dtt ['AND', 'OR']\n",
      "x39 AND y39 -> rrn ['OR', 'AND']\n",
      "x40 AND y40 -> wtv ['OR', 'AND']\n",
      "x41 AND y41 -> dqw ['AND', 'OR']\n",
      "y42 AND x42 -> thc ['AND', 'OR']\n",
      "x43 AND y43 -> dcc ['OR', 'AND']\n",
      "y44 AND x44 -> mgv ['AND', 'OR']\n"
     ]
    }
   ],
   "source": [
    "for i in range(45):\n",
    "    values = find_all_about(f'x{i:02}')\n",
    "    for v in values:\n",
    "#         if 'XOR' in v:\n",
    "#             print(v, find_all_ops(find_all_about(v.split(' ')[-1])))\n",
    "        if 'AND' in v:\n",
    "            print(v, find_all_ops(find_all_about(v.split(' ')[-1])))\n",
    "        "
   ]
  },
  {
   "cell_type": "code",
   "execution_count": 142,
   "id": "59966a1b",
   "metadata": {
    "scrolled": true
   },
   "outputs": [
    {
     "data": {
      "text/plain": [
       "['kvg OR sgj -> z09', 'gkb OR mgv -> z45', 'vcr AND nwb -> z37']"
      ]
     },
     "execution_count": 142,
     "metadata": {},
     "output_type": "execute_result"
    }
   ],
   "source": [
    "[x for x in data[1].splitlines() if ('XOR' not in x) and '-> z' in x and not x.startswith('y')]"
   ]
  },
  {
   "cell_type": "code",
   "execution_count": 46,
   "id": "9f3c69bd",
   "metadata": {},
   "outputs": [
    {
     "data": {
      "text/plain": [
       "['kvg OR sgj -> z09',\n",
       " 'y05 AND x05 -> z05',\n",
       " 'vcr AND nwb -> z37',\n",
       " 'jnf XOR wgh -> cwt',\n",
       " 'knc XOR wcq -> gdd',\n",
       " 'vcr XOR nwb -> pqt']"
      ]
     },
     "execution_count": 46,
     "metadata": {},
     "output_type": "execute_result"
    }
   ],
   "source": [
    "surely_wrong"
   ]
  },
  {
   "cell_type": "code",
   "execution_count": 47,
   "id": "4bd63e28",
   "metadata": {},
   "outputs": [
    {
     "data": {
      "text/plain": [
       "'css,cwt,gdd,jmv,pqt,z05,z09,z37'"
      ]
     },
     "execution_count": 47,
     "metadata": {},
     "output_type": "execute_result"
    }
   ],
   "source": [
    "','.join(sorted(['z09', 'z05','css', 'jmv', 'z37', 'cwt', 'gdd', 'pqt']))"
   ]
  },
  {
   "cell_type": "code",
   "execution_count": null,
   "id": "36662a7b",
   "metadata": {},
   "outputs": [],
   "source": []
  }
 ],
 "metadata": {
  "kernelspec": {
   "display_name": "Python 3 (ipykernel)",
   "language": "python",
   "name": "python3"
  },
  "language_info": {
   "codemirror_mode": {
    "name": "ipython",
    "version": 3
   },
   "file_extension": ".py",
   "mimetype": "text/x-python",
   "name": "python",
   "nbconvert_exporter": "python",
   "pygments_lexer": "ipython3",
   "version": "3.11.3"
  }
 },
 "nbformat": 4,
 "nbformat_minor": 5
}
