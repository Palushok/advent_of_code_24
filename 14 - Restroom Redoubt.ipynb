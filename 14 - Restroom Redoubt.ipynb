{
 "cells": [
  {
   "cell_type": "code",
   "execution_count": 1,
   "id": "4918cd97",
   "metadata": {},
   "outputs": [],
   "source": [
    "from collections import defaultdict\n",
    "\n",
    "import matplotlib.pyplot as plt\n",
    "import numpy as np\n",
    "with open('data/14.txt', 'r') as f:\n",
    "    data = f.read().splitlines()"
   ]
  },
  {
   "cell_type": "code",
   "execution_count": 2,
   "id": "12528c04",
   "metadata": {},
   "outputs": [],
   "source": [
    "DATA_SHAPE = (101, 103)"
   ]
  },
  {
   "cell_type": "code",
   "execution_count": 3,
   "id": "eec5a67e",
   "metadata": {},
   "outputs": [],
   "source": [
    "class Robot:\n",
    "    def __init__(self, pos, vel):\n",
    "        self.start_pos = pos\n",
    "        self.pos = pos\n",
    "        self.vel = vel\n",
    "\n",
    "    def __repr__(self):\n",
    "        return f'Position: {self.pos}\\nVelocity: {self.vel}'\n",
    "    \n",
    "    def new_pos(self, seconds):\n",
    "        pos = (\n",
    "            (self.pos[0] + self.vel[0] * seconds) % DATA_SHAPE[0], \n",
    "            (self.pos[1] + self.vel[1] * seconds) % DATA_SHAPE[1]\n",
    "        )\n",
    "        zone = self._get_zone(pos)\n",
    "        self.pos = pos\n",
    "        return pos, zone\n",
    "    \n",
    "    def reset_pos(self):\n",
    "        self.pos = self.start_pos\n",
    "    \n",
    "    @staticmethod\n",
    "    def _get_zone(pos):\n",
    "        if pos[0] < (DATA_SHAPE[0] - 1) // 2 and pos[1] < (DATA_SHAPE[1] - 1) // 2:\n",
    "            return 0\n",
    "        elif pos[0] > (DATA_SHAPE[0]) // 2 and pos[1] < (DATA_SHAPE[1] - 1) // 2:\n",
    "            return 1\n",
    "        elif pos[0] < (DATA_SHAPE[0] - 1) // 2 and pos[1] > (DATA_SHAPE[1] - 1) // 2:\n",
    "            return 2\n",
    "        elif pos[0] > (DATA_SHAPE[0] - 1) // 2 and pos[1] > (DATA_SHAPE[1] - 1) // 2:\n",
    "            return 3\n",
    "        return"
   ]
  },
  {
   "cell_type": "code",
   "execution_count": 4,
   "id": "38ef8d29",
   "metadata": {},
   "outputs": [],
   "source": [
    "def print_all(robots):\n",
    "    room = np.zeros(DATA_SHAPE[::-1], dtype=int)\n",
    "    for r in robots:\n",
    "        room[r.pos[::-1]] = 1\n",
    "    plt.imshow(room)"
   ]
  },
  {
   "cell_type": "code",
   "execution_count": 5,
   "id": "3ee9f00f",
   "metadata": {},
   "outputs": [],
   "source": [
    "robots = []\n",
    "for line in data:\n",
    "    pos_x = int(line.split(',')[0].split('=')[1])\n",
    "    pos_y = int(line.split(',')[1].split()[0])\n",
    "    vel_x = int(line.split(',')[1].split('=')[1])\n",
    "    vel_y = int(line.split(',')[2])\n",
    "    robots.append(Robot((pos_x, pos_y), (vel_x, vel_y)))"
   ]
  },
  {
   "cell_type": "code",
   "execution_count": 6,
   "id": "f854988c",
   "metadata": {},
   "outputs": [
    {
     "name": "stdout",
     "output_type": "stream",
     "text": [
      "231852216\n"
     ]
    }
   ],
   "source": [
    "zones = defaultdict(int)\n",
    "for r in robots:\n",
    "    pos, zone = r.new_pos(100)\n",
    "    if zone is not None:\n",
    "        zones[zone] += 1\n",
    "\n",
    "res = 1\n",
    "for z in zones.values():\n",
    "    res *= z\n",
    "print(res)"
   ]
  },
  {
   "cell_type": "code",
   "execution_count": 7,
   "id": "822ae84b",
   "metadata": {},
   "outputs": [],
   "source": [
    "for robot in robots:\n",
    "    robot.reset_pos()"
   ]
  },
  {
   "cell_type": "code",
   "execution_count": 8,
   "id": "489a1d69",
   "metadata": {},
   "outputs": [],
   "source": [
    "i = 0\n",
    "while True:\n",
    "    i+=1\n",
    "    poses = set()\n",
    "    for r in robots:\n",
    "        pos, _ = r.new_pos(1)\n",
    "        poses.add(tuple(pos))\n",
    "    if len(poses) == len(robots):\n",
    "        break"
   ]
  },
  {
   "cell_type": "code",
   "execution_count": 9,
   "id": "cf97ae1e",
   "metadata": {},
   "outputs": [
    {
     "data": {
      "text/plain": [
       "8159"
      ]
     },
     "execution_count": 9,
     "metadata": {},
     "output_type": "execute_result"
    }
   ],
   "source": [
    "i"
   ]
  },
  {
   "cell_type": "code",
   "execution_count": 10,
   "id": "513502aa",
   "metadata": {},
   "outputs": [
    {
     "data": {
      "image/png": "[encoded data removed]",
      "text/plain": [
       "<Figure size 640x480 with 1 Axes>"
      ]
     },
     "metadata": {},
     "output_type": "display_data"
    }
   ],
   "source": [
    "print_all(robots)"
   ]
  },
  {
   "cell_type": "code",
   "execution_count": null,
   "id": "c2147a95",
   "metadata": {},
   "outputs": [],
   "source": []
  }
 ],
 "metadata": {
  "kernelspec": {
   "display_name": "Python 3 (ipykernel)",
   "language": "python",
   "name": "python3"
  },
  "language_info": {
   "codemirror_mode": {
    "name": "ipython",
    "version": 3
   },
   "file_extension": ".py",
   "mimetype": "text/x-python",
   "name": "python",
   "nbconvert_exporter": "python",
   "pygments_lexer": "ipython3",
   "version": "3.11.3"
  }
 },
 "nbformat": 4,
 "nbformat_minor": 5
}
