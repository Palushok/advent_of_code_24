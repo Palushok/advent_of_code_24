{
 "cells": [
  {
   "cell_type": "code",
   "execution_count": 42,
   "id": "9ce5ec01",
   "metadata": {},
   "outputs": [],
   "source": [
    "with open('data/25.txt', 'r') as f:\n",
    "    data = f.read().split('\\n\\n')\n"
   ]
  },
  {
   "cell_type": "code",
   "execution_count": 43,
   "id": "c4149873",
   "metadata": {},
   "outputs": [],
   "source": [
    "keys = []\n",
    "locks = []\n",
    "for d in data:\n",
    "    d = d.splitlines()\n",
    "    temp_res = []\n",
    "    for i in range(5):\n",
    "        temp_res.append(-1)\n",
    "        for j in range(7):\n",
    "            if d[j][i] == '#':\n",
    "                temp_res[i] += 1\n",
    "    if d[0][0] == '#':\n",
    "        locks.append(temp_res)\n",
    "    else:\n",
    "        keys.append(temp_res)"
   ]
  },
  {
   "cell_type": "code",
   "execution_count": 45,
   "id": "d0c9191d",
   "metadata": {},
   "outputs": [],
   "source": [
    "res = 0\n",
    "for k in keys:\n",
    "    for l in locks:\n",
    "        fit = True\n",
    "        for i in range(5):\n",
    "            if k[i] + l[i] >= 6:\n",
    "                fit = False\n",
    "        if fit:\n",
    "            res += 1"
   ]
  },
  {
   "cell_type": "code",
   "execution_count": 46,
   "id": "f26a07aa",
   "metadata": {},
   "outputs": [
    {
     "data": {
      "text/plain": [
       "3021"
      ]
     },
     "execution_count": 46,
     "metadata": {},
     "output_type": "execute_result"
    }
   ],
   "source": [
    "res"
   ]
  },
  {
   "cell_type": "code",
   "execution_count": null,
   "id": "335d6481",
   "metadata": {},
   "outputs": [],
   "source": []
  }
 ],
 "metadata": {
  "kernelspec": {
   "display_name": "Python 3 (ipykernel)",
   "language": "python",
   "name": "python3"
  },
  "language_info": {
   "codemirror_mode": {
    "name": "ipython",
    "version": 3
   },
   "file_extension": ".py",
   "mimetype": "text/x-python",
   "name": "python",
   "nbconvert_exporter": "python",
   "pygments_lexer": "ipython3",
   "version": "3.11.3"
  }
 },
 "nbformat": 4,
 "nbformat_minor": 5
}
