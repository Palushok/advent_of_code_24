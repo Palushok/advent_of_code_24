{
 "cells": [
  {
   "cell_type": "code",
   "execution_count": 1,
   "id": "744e7a16",
   "metadata": {},
   "outputs": [],
   "source": [
    "with open('data/7.txt', 'r') as f:\n",
    "    data = f.read().splitlines()\n",
    "data = [x.split(':') for x in data]\n",
    "data = [(int(x[0]), [int(y) for y in x[1].lstrip().split()]) for x in data]"
   ]
  },
  {
   "cell_type": "code",
   "execution_count": 2,
   "id": "e6574281",
   "metadata": {},
   "outputs": [],
   "source": [
    "def check_next(total, now, should_be):\n",
    "    if len(now) == 1:\n",
    "        if (total + now[0] == should_be) or (total * now[0] == should_be):\n",
    "            return True\n",
    "        return False\n",
    "    return check_next(total + now[0], now[1:], should_be) or check_next(total * now[0], now[1:], should_be)\n",
    "\n",
    "    "
   ]
  },
  {
   "cell_type": "code",
   "execution_count": 3,
   "id": "1bc7a96e",
   "metadata": {},
   "outputs": [],
   "source": [
    "def check_next_hard(total, now, should_be):\n",
    "    if len(now) == 1:\n",
    "        if (\n",
    "            (total + now[0] == should_be) or \n",
    "            (total * now[0] == should_be) or \n",
    "            (int(str(total) + str(now[0])) == should_be)\n",
    "        ):\n",
    "            return True\n",
    "        return False\n",
    "    return (\n",
    "        check_next_hard(int(str(total) + str(now[0])), now[1:], should_be) or\n",
    "        check_next_hard(total + now[0], now[1:], should_be) or \n",
    "        check_next_hard(total * now[0], now[1:], should_be)\n",
    "    )"
   ]
  },
  {
   "cell_type": "code",
   "execution_count": 4,
   "id": "14e51241",
   "metadata": {},
   "outputs": [],
   "source": [
    "res = 0\n",
    "for line in data:\n",
    "    if check_next(line[1][0], line[1][1:], line[0]):\n",
    "        res += line[0]\n"
   ]
  },
  {
   "cell_type": "code",
   "execution_count": 5,
   "id": "ada9c170",
   "metadata": {},
   "outputs": [
    {
     "data": {
      "text/plain": [
       "1985268524462"
      ]
     },
     "execution_count": 5,
     "metadata": {},
     "output_type": "execute_result"
    }
   ],
   "source": [
    "res"
   ]
  },
  {
   "cell_type": "code",
   "execution_count": 6,
   "id": "027acfcd",
   "metadata": {},
   "outputs": [],
   "source": [
    "res = 0\n",
    "for line in data:\n",
    "    if check_next(line[1][0], line[1][1:], line[0]) or check_next_hard(line[1][0], line[1][1:], line[0]):\n",
    "        res += line[0]\n"
   ]
  },
  {
   "cell_type": "code",
   "execution_count": 7,
   "id": "3ec3bc25",
   "metadata": {},
   "outputs": [
    {
     "data": {
      "text/plain": [
       "150077710195188"
      ]
     },
     "execution_count": 7,
     "metadata": {},
     "output_type": "execute_result"
    }
   ],
   "source": [
    "res"
   ]
  },
  {
   "cell_type": "code",
   "execution_count": null,
   "id": "f40a0143",
   "metadata": {},
   "outputs": [],
   "source": []
  }
 ],
 "metadata": {
  "kernelspec": {
   "display_name": "Python 3 (ipykernel)",
   "language": "python",
   "name": "python3"
  },
  "language_info": {
   "codemirror_mode": {
    "name": "ipython",
    "version": 3
   },
   "file_extension": ".py",
   "mimetype": "text/x-python",
   "name": "python",
   "nbconvert_exporter": "python",
   "pygments_lexer": "ipython3",
   "version": "3.11.3"
  }
 },
 "nbformat": 4,
 "nbformat_minor": 5
}
