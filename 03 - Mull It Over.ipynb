{
 "cells": [
  {
   "cell_type": "code",
   "execution_count": 37,
   "id": "e15f1ed9",
   "metadata": {},
   "outputs": [],
   "source": [
    "import re"
   ]
  },
  {
   "cell_type": "code",
   "execution_count": 38,
   "id": "2a05447b",
   "metadata": {},
   "outputs": [],
   "source": [
    "with open('data/3.txt', 'r') as f:\n",
    "    data = f.read()"
   ]
  },
  {
   "cell_type": "code",
   "execution_count": 39,
   "id": "00923b29",
   "metadata": {},
   "outputs": [],
   "source": [
    "operations = re.findall(r'(mul\\(\\d*,\\d*\\))', data)\n",
    "operations = [x[4:-1] for x in operations]\n",
    "operations = [[int(y) for y in x.split(',')] for x in operations]"
   ]
  },
  {
   "cell_type": "code",
   "execution_count": 40,
   "id": "82cacf45",
   "metadata": {},
   "outputs": [
    {
     "name": "stdout",
     "output_type": "stream",
     "text": [
      "173731097\n"
     ]
    }
   ],
   "source": [
    "print(sum([x*y for x, y in operations]))"
   ]
  },
  {
   "cell_type": "code",
   "execution_count": 41,
   "id": "b84b0963",
   "metadata": {},
   "outputs": [],
   "source": [
    "operations = re.findall(r'(mul\\(\\d*,\\d*\\))|(do\\(\\))|(don\\'t\\(\\))', data)"
   ]
  },
  {
   "cell_type": "code",
   "execution_count": 42,
   "id": "95fb8280",
   "metadata": {},
   "outputs": [
    {
     "name": "stdout",
     "output_type": "stream",
     "text": [
      "93729253\n"
     ]
    }
   ],
   "source": [
    "state = True\n",
    "res = 0\n",
    "for op in operations:\n",
    "    if op[0] and state:\n",
    "        x, y = [int(y) for y in op[0][4:-1].split(',')]\n",
    "        res += x * y\n",
    "    elif op[1]:\n",
    "        state = True\n",
    "    elif op[2]:\n",
    "        state = False\n",
    "print(res)"
   ]
  }
 ],
 "metadata": {
  "kernelspec": {
   "display_name": "Python 3 (ipykernel)",
   "language": "python",
   "name": "python3"
  },
  "language_info": {
   "codemirror_mode": {
    "name": "ipython",
    "version": 3
   },
   "file_extension": ".py",
   "mimetype": "text/x-python",
   "name": "python",
   "nbconvert_exporter": "python",
   "pygments_lexer": "ipython3",
   "version": "3.11.3"
  }
 },
 "nbformat": 4,
 "nbformat_minor": 5
}
