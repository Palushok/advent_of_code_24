{
 "cells": [
  {
   "cell_type": "code",
   "execution_count": 9,
   "id": "8c15a7e4",
   "metadata": {},
   "outputs": [],
   "source": [
    "import numpy as np\n",
    "from collections import deque, defaultdict\n",
    "from copy import deepcopy\n",
    "from functools import cache"
   ]
  },
  {
   "cell_type": "code",
   "execution_count": 2,
   "id": "c06b18e8",
   "metadata": {},
   "outputs": [],
   "source": [
    "with open('data/21.txt', 'r') as f:\n",
    "    data = f.read().splitlines()"
   ]
  },
  {
   "cell_type": "code",
   "execution_count": 3,
   "id": "67ac423c",
   "metadata": {},
   "outputs": [],
   "source": [
    "letters_chain = {\n",
    "    'A': {\n",
    "        'A': [''],\n",
    "        '^': ['<'],\n",
    "        '>': ['v'],\n",
    "        'v': ['v<', '<v'],\n",
    "        '<': ['v<<']\n",
    "    },\n",
    "    '^': {\n",
    "        'A': ['>'],\n",
    "        '^': [''],\n",
    "        '>': ['v>', '>v'],\n",
    "        'v': ['v'],\n",
    "        '<': ['v<']\n",
    "    },\n",
    "    '>': {\n",
    "        'A': ['^'],\n",
    "        '^': ['^<', '<^'],\n",
    "        '>': [''],\n",
    "        'v': ['<'],\n",
    "        '<': ['<<']\n",
    "    },\n",
    "    'v': {\n",
    "        'A': ['^>', '>^'],\n",
    "        '^': ['^'],\n",
    "        '>': ['>'],\n",
    "        'v': [''],\n",
    "        '<': ['<']\n",
    "    },\n",
    "    '<': {\n",
    "        'A': ['>>^'],\n",
    "        '^': ['>^'],\n",
    "        '>': ['>>'],\n",
    "        'v': ['>'],\n",
    "        '<': [''],\n",
    "    }\n",
    "}"
   ]
  },
  {
   "cell_type": "code",
   "execution_count": 4,
   "id": "9c23e5a4",
   "metadata": {},
   "outputs": [],
   "source": [
    "def find_path_in_deck(deck, letter_start, letter_end):\n",
    "    res = []\n",
    "    y_0, x_0 = np.where(deck==letter_start)\n",
    "    y_0, x_0 = y_0[0], x_0[0]\n",
    "\n",
    "    y_1, x_1 = np.where(deck==letter_end)\n",
    "    y_1, x_1 = y_1[0], x_1[0]\n",
    "\n",
    "    all_res = set()\n",
    "\n",
    "    if y_1 < y_0:\n",
    "        res += ['^'] * (y_0 - y_1)\n",
    "    if x_1 < x_0:\n",
    "        res += ['<'] * (x_0 - x_1)\n",
    "    if x_1 > x_0:\n",
    "        res += ['>'] * (x_1 - x_0)\n",
    "    if y_1 > y_0:\n",
    "        res += ['v'] * (y_1 - y_0)\n",
    "    all_res.add(''.join(res))\n",
    "\n",
    "    if letter_start not in '7410A' or letter_end not in '7410A':\n",
    "        res = []\n",
    "        if x_1 < x_0:\n",
    "            if y_1 < y_0:\n",
    "                all_res.add(''.join(['<'] * (x_0 - x_1) + ['^'] * (y_0 - y_1)))\n",
    "                all_res.add(''.join(['^'] * (y_0 - y_1) + ['<'] * (x_0 - x_1)))\n",
    "            elif y_1 > y_0:\n",
    "                all_res.add(''.join(['<'] * (x_0 - x_1) + ['v'] * (y_1 - y_0)))\n",
    "                all_res.add(''.join(['v'] * (y_1 - y_0) + ['<'] * (x_0 - x_1)))\n",
    "        elif x_0 < x_1:\n",
    "            if y_1 < y_0:\n",
    "                all_res.add(''.join(['>'] * (x_1 - x_0) + ['^'] * (y_0 - y_1)))\n",
    "                all_res.add(''.join(['^'] * (y_0 - y_1) + ['>'] * (x_1 - x_0)))\n",
    "            elif y_1 > y_0:\n",
    "                all_res.add(''.join(['>'] * (x_1 - x_0) + ['v'] * (y_1 - y_0)))\n",
    "                all_res.add(''.join(['v'] * (y_1 - y_0) + ['>'] * (x_1 - x_0)))\n",
    "    return all_res"
   ]
  },
  {
   "cell_type": "code",
   "execution_count": 5,
   "id": "b32b8f08",
   "metadata": {},
   "outputs": [],
   "source": [
    "deck = np.array(([['7','8','9'], ['4','5','6'], ['1','2','3'], ['','0','A']]))"
   ]
  },
  {
   "cell_type": "code",
   "execution_count": 6,
   "id": "dff8af96",
   "metadata": {},
   "outputs": [],
   "source": [
    "letter_paths = defaultdict(dict)\n",
    "for a in 'A0123456789':\n",
    "    for b in 'A0123456789':\n",
    "        if a == b:\n",
    "            letter_paths[a][b] = []\n",
    "        letter_paths[a][b] = [x for x in list(find_path_in_deck(deck, a, b))]"
   ]
  },
  {
   "cell_type": "code",
   "execution_count": 7,
   "id": "3433fb23",
   "metadata": {},
   "outputs": [],
   "source": [
    "def build_combinations(arrays, current=[], index=0):\n",
    "    if index == len(arrays):\n",
    "        return [current]\n",
    "    results = []\n",
    "    for value in arrays[index]:\n",
    "        new_results = build_combinations(arrays, current + [value], index + 1)\n",
    "        results.extend(new_results)\n",
    "    return results"
   ]
  },
  {
   "cell_type": "code",
   "execution_count": 10,
   "id": "91fd466a",
   "metadata": {},
   "outputs": [],
   "source": [
    "@cache\n",
    "def desribe(code, depth):\n",
    "    if code[0].isnumeric():\n",
    "        code = 'A' + code\n",
    "        moves = [[y + 'A' for y in x] for x in [letter_paths[code[i]][code[i+1]] for i in range(len(code[:-1]))]]\n",
    "        moves = build_combinations(moves)\n",
    "    else:\n",
    "        code = 'A' + code\n",
    "        moves = [[y + 'A' for y in x] for x in [letters_chain[code[i]][code[i+1]] for i in range(len(code[:-1]))]]\n",
    "        moves = build_combinations(moves)\n",
    "    if depth == 0:\n",
    "        return min([sum(map(len, move)) for move in moves])\n",
    "    else:\n",
    "        return min([sum(desribe(curr_code, depth - 1) for curr_code in move) for move in moves])"
   ]
  },
  {
   "cell_type": "code",
   "execution_count": 11,
   "id": "9f8adce4",
   "metadata": {},
   "outputs": [
    {
     "name": "stdout",
     "output_type": "stream",
     "text": [
      "Part 1: 123096\n",
      "Part 2: 154517692795352\n"
     ]
    }
   ],
   "source": [
    "for i, l in enumerate([2, 25]):\n",
    "    total_res = 0\n",
    "    for d in data:\n",
    "        res = desribe(d, l)\n",
    "        total_res += res * int(d[:3])\n",
    "    print(f'Part {i+1}: {total_res}')\n",
    "    "
   ]
  },
  {
   "cell_type": "code",
   "execution_count": null,
   "id": "502e2e01",
   "metadata": {},
   "outputs": [],
   "source": []
  }
 ],
 "metadata": {
  "kernelspec": {
   "display_name": "Python 3 (ipykernel)",
   "language": "python",
   "name": "python3"
  },
  "language_info": {
   "codemirror_mode": {
    "name": "ipython",
    "version": 3
   },
   "file_extension": ".py",
   "mimetype": "text/x-python",
   "name": "python",
   "nbconvert_exporter": "python",
   "pygments_lexer": "ipython3",
   "version": "3.11.3"
  }
 },
 "nbformat": 4,
 "nbformat_minor": 5
}
