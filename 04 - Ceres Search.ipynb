{
 "cells": [
  {
   "cell_type": "code",
   "execution_count": 41,
   "id": "0b19ebd8",
   "metadata": {},
   "outputs": [],
   "source": [
    "import numpy as np\n",
    "from copy import deepcopy"
   ]
  },
  {
   "cell_type": "code",
   "execution_count": 89,
   "id": "c9695453",
   "metadata": {},
   "outputs": [],
   "source": [
    "with open('data/4.txt', 'r') as f:\n",
    "    data = f.read().split('\\n')"
   ]
  },
  {
   "cell_type": "code",
   "execution_count": 90,
   "id": "e58086e9",
   "metadata": {},
   "outputs": [],
   "source": [
    "data = np.array([list(x) for x in data])"
   ]
  },
  {
   "cell_type": "code",
   "execution_count": 91,
   "id": "445ebbde",
   "metadata": {},
   "outputs": [],
   "source": [
    "new_array = np.full((data.shape[0]+2, data.shape[1]+2), '-')"
   ]
  },
  {
   "cell_type": "code",
   "execution_count": 92,
   "id": "5fd678c9",
   "metadata": {},
   "outputs": [],
   "source": [
    "new_array[1:-1,1:-1] = data"
   ]
  },
  {
   "cell_type": "code",
   "execution_count": 93,
   "id": "fa4c3c65",
   "metadata": {},
   "outputs": [],
   "source": [
    "directions = [\n",
    "    [-1, 0],\n",
    "    [-1, 1],\n",
    "    [0, 1],\n",
    "    [1, 1],\n",
    "    [1, 0],\n",
    "    [1, -1],\n",
    "    [0, -1],\n",
    "    [-1, -1]\n",
    "]"
   ]
  },
  {
   "cell_type": "code",
   "execution_count": 94,
   "id": "607bce52",
   "metadata": {},
   "outputs": [],
   "source": [
    "next_letter = {\n",
    "    '': 'X',\n",
    "    'X': 'M',\n",
    "    'M': 'A',\n",
    "    'A': 'S'\n",
    "}"
   ]
  },
  {
   "cell_type": "code",
   "execution_count": 95,
   "id": "e8f946b2",
   "metadata": {},
   "outputs": [
    {
     "name": "stdout",
     "output_type": "stream",
     "text": [
      "2569\n"
     ]
    }
   ],
   "source": [
    "total_res = 0\n",
    "\n",
    "def dfs(word, direction, position):\n",
    "    global total_res\n",
    "    if len(word) == 5:\n",
    "        total_res += 1\n",
    "        return\n",
    "    new_pos = (position[0] + direction[0], position[1] + direction[1])\n",
    "    if -1 in new_pos or new_array.shape[0] in new_pos:\n",
    "        return\n",
    "    new_letter = new_array[new_pos]\n",
    "    if new_letter == next_letter[word[-1]]:\n",
    "        dfs(word+[new_letter], direction, new_pos)\n",
    "    return\n",
    "\n",
    "for i in range(new_array.shape[0]):\n",
    "    for j in range(new_array.shape[0]):\n",
    "        for d in directions:\n",
    "            dfs([''], d, [i, j])\n",
    "print(total_res)\n",
    "            "
   ]
  },
  {
   "cell_type": "code",
   "execution_count": 96,
   "id": "f404b92d",
   "metadata": {},
   "outputs": [],
   "source": [
    "possible_mases = np.array([\n",
    "    [\n",
    "        ['M', '-', 'M'],\n",
    "        ['-', 'A', '-'],\n",
    "        ['S', '-', 'S'],\n",
    "    ],\n",
    "    [\n",
    "        ['M', '-', 'S'],\n",
    "        ['-', 'A', '-'],\n",
    "        ['M', '-', 'S'],\n",
    "    ],\n",
    "    [\n",
    "        ['S', '-', 'S'],\n",
    "        ['-', 'A', '-'],\n",
    "        ['M', '-', 'M'],\n",
    "    ],\n",
    "    [\n",
    "        ['S', '-', 'M'],\n",
    "        ['-', 'A', '-'],\n",
    "        ['S', '-', 'M'],\n",
    "    ],\n",
    "\n",
    "])"
   ]
  },
  {
   "cell_type": "code",
   "execution_count": 97,
   "id": "bf2be4cb",
   "metadata": {},
   "outputs": [],
   "source": [
    "def compare(i, j):\n",
    "    global total_res_2\n",
    "    if (i+3 > new_array.shape[0]) or (j+3 > new_array.shape[0]):\n",
    "        return\n",
    "    test_mas = deepcopy(new_array[i:i+3, j:j+3])\n",
    "    test_mas[0,1] = '-'\n",
    "    test_mas[1,0] = '-'\n",
    "    test_mas[2,1] = '-'\n",
    "    test_mas[1,2] = '-'\n",
    "\n",
    "    for var in possible_mases:\n",
    "        if np.array_equal(test_mas, var):\n",
    "            total_res_2 += 1\n",
    "            return"
   ]
  },
  {
   "cell_type": "code",
   "execution_count": 98,
   "id": "da761763",
   "metadata": {},
   "outputs": [
    {
     "name": "stdout",
     "output_type": "stream",
     "text": [
      "1998\n"
     ]
    }
   ],
   "source": [
    "total_res_2 = 0\n",
    "for i in range(new_array.shape[0]):\n",
    "    for j in range(new_array.shape[0]):\n",
    "        compare(i, j)\n",
    "print(total_res_2)"
   ]
  }
 ],
 "metadata": {
  "kernelspec": {
   "display_name": "Python 3 (ipykernel)",
   "language": "python",
   "name": "python3"
  },
  "language_info": {
   "codemirror_mode": {
    "name": "ipython",
    "version": 3
   },
   "file_extension": ".py",
   "mimetype": "text/x-python",
   "name": "python",
   "nbconvert_exporter": "python",
   "pygments_lexer": "ipython3",
   "version": "3.11.3"
  }
 },
 "nbformat": 4,
 "nbformat_minor": 5
}
