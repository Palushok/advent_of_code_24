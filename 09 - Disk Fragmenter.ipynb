{
 "cells": [
  {
   "cell_type": "code",
   "execution_count": 436,
   "id": "c4fe19a3",
   "metadata": {},
   "outputs": [],
   "source": [
    "with open('data/9.txt', 'r') as f:\n",
    "    data = f.read()"
   ]
  },
  {
   "cell_type": "code",
   "execution_count": 437,
   "id": "0bdbd741",
   "metadata": {},
   "outputs": [],
   "source": [
    "data = [int(x) for x in data]"
   ]
  },
  {
   "cell_type": "code",
   "execution_count": 438,
   "id": "3ec76675",
   "metadata": {},
   "outputs": [
    {
     "name": "stdout",
     "output_type": "stream",
     "text": [
      "6341711060162\n"
     ]
    }
   ],
   "source": [
    "l_pointer = 0\n",
    "r_pointer = len(data) - 1\n",
    "r_rest_val = data[r_pointer]\n",
    "position_in_list = 0\n",
    "id_of_element_left = 0\n",
    "id_of_element_right = len(data) // 2\n",
    "\n",
    "total_res = 0\n",
    "while l_pointer < r_pointer:\n",
    "    if l_pointer % 2 == 0:\n",
    "        for i in range(data[l_pointer]):\n",
    "            total_res += position_in_list * id_of_element_left\n",
    "            position_in_list += 1\n",
    "        id_of_element_left += 1\n",
    "    else:\n",
    "        for i in range(data[l_pointer]):\n",
    "\n",
    "            if r_rest_val == 0:\n",
    "                r_pointer -= 2\n",
    "                r_rest_val = data[r_pointer]\n",
    "                id_of_element_right -= 1\n",
    "            if l_pointer > r_pointer:\n",
    "                break\n",
    "            total_res += position_in_list * id_of_element_right\n",
    "            r_rest_val -= 1\n",
    "            position_in_list += 1\n",
    "    l_pointer += 1\n",
    "if l_pointer == r_pointer:\n",
    "    while r_rest_val:\n",
    "        total_res += position_in_list * id_of_element_right\n",
    "        r_rest_val -= 1\n",
    "        position_in_list += 1\n",
    "print(total_res)"
   ]
  },
  {
   "cell_type": "code",
   "execution_count": 440,
   "id": "35c36ba8",
   "metadata": {},
   "outputs": [],
   "source": [
    "start_pos = []\n",
    "ind = 0\n",
    "for i in range(len(data)):\n",
    "    if not i % 2:\n",
    "        start_pos.append([data[i], ind])\n",
    "        ind += 1\n",
    "    else:\n",
    "        start_pos.append([data[i], 0])\n",
    "start_pos[0][1] = -1  \n",
    "\n",
    "\n",
    "what_i_checked = set()\n",
    "while -1 not in what_i_checked:\n",
    "    for j, pos in enumerate(start_pos[::-1]):\n",
    "        if (pos[1] == 0) or (pos[1] in what_i_checked):\n",
    "            continue\n",
    "        break\n",
    "    j = len(start_pos) - 1 - j\n",
    "    what_i_checked.add(pos[1])\n",
    "    new_element = None\n",
    "    for i, possible_pos in enumerate(start_pos[:j]):\n",
    "        if possible_pos[1] != 0:\n",
    "            continue\n",
    "        if pos[0] <= possible_pos[0]:\n",
    "            new_element = [[pos[0], pos[1]]]\n",
    "            rest = possible_pos[0] - pos[0]\n",
    "            if rest:\n",
    "                new_element.append([rest, 0])\n",
    "            start_pos = start_pos[:i] + new_element + start_pos[i+1:]\n",
    "            start_pos[j + len(new_element)-1][1] = 0\n",
    "            break\n",
    "            \n",
    "start_pos[0][1] = 0"
   ]
  },
  {
   "cell_type": "code",
   "execution_count": 442,
   "id": "d9587119",
   "metadata": {},
   "outputs": [
    {
     "name": "stdout",
     "output_type": "stream",
     "text": [
      "6377400869326\n"
     ]
    }
   ],
   "source": [
    "ind = 0\n",
    "total_res_2 = 0\n",
    "for pos in start_pos:\n",
    "    for j in range(pos[0]):\n",
    "        total_res_2 += ind * pos[1]\n",
    "        ind += 1\n",
    "print(total_res_2)"
   ]
  },
  {
   "cell_type": "code",
   "execution_count": null,
   "id": "9cd70ec2",
   "metadata": {},
   "outputs": [],
   "source": []
  }
 ],
 "metadata": {
  "kernelspec": {
   "display_name": "Python 3 (ipykernel)",
   "language": "python",
   "name": "python3"
  },
  "language_info": {
   "codemirror_mode": {
    "name": "ipython",
    "version": 3
   },
   "file_extension": ".py",
   "mimetype": "text/x-python",
   "name": "python",
   "nbconvert_exporter": "python",
   "pygments_lexer": "ipython3",
   "version": "3.11.3"
  }
 },
 "nbformat": 4,
 "nbformat_minor": 5
}
