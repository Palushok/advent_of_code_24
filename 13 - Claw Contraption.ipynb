{
 "cells": [
  {
   "cell_type": "code",
   "execution_count": 1,
   "id": "bf1277f3",
   "metadata": {},
   "outputs": [],
   "source": [
    "import numpy as np"
   ]
  },
  {
   "cell_type": "code",
   "execution_count": 2,
   "id": "f344bd8a",
   "metadata": {},
   "outputs": [],
   "source": [
    "with open('data/13.txt', 'r') as f:\n",
    "    data = f.read().split('\\n\\n')\n",
    "data = [x.split('\\n') for x in data]"
   ]
  },
  {
   "cell_type": "code",
   "execution_count": 3,
   "id": "18cf266f",
   "metadata": {},
   "outputs": [
    {
     "name": "stdout",
     "output_type": "stream",
     "text": [
      "Part 1: 38714\n",
      "Part 2: 74015623345775\n"
     ]
    }
   ],
   "source": [
    "for i in range(2):\n",
    "    total_sum = 0\n",
    "    for d in data:\n",
    "        ax = int(d[0].split('+')[1].split(',')[0])\n",
    "        ay = int(d[0].split('+')[2])\n",
    "\n",
    "        bx = int(d[1].split('+')[1].split(',')[0])\n",
    "        by = int(d[1].split('+')[2])\n",
    "\n",
    "        x_total = int(d[2].split('=')[1].split(',')[0]) + 10000000000000 * i\n",
    "        y_total = int(d[2].split('=')[2]) + 10000000000000 * i \n",
    "\n",
    "        a = np.array([[ax, bx], [ay, by]]).astype(np.float64)\n",
    "        b = np.array([x_total, y_total]).astype(np.float64)\n",
    "        ans1, ans2 = np.linalg.solve(a, b)\n",
    "        if (round(ans1) * ax + round(ans2) * bx == x_total) and (round(ans1) * ay + round(ans2) * by == y_total):\n",
    "            total_sum += ans1*3 + ans2\n",
    "    print(f'Part {i+1}:', int(total_sum))"
   ]
  },
  {
   "cell_type": "code",
   "execution_count": null,
   "id": "63a38c55",
   "metadata": {},
   "outputs": [],
   "source": []
  }
 ],
 "metadata": {
  "kernelspec": {
   "display_name": "Python 3 (ipykernel)",
   "language": "python",
   "name": "python3"
  },
  "language_info": {
   "codemirror_mode": {
    "name": "ipython",
    "version": 3
   },
   "file_extension": ".py",
   "mimetype": "text/x-python",
   "name": "python",
   "nbconvert_exporter": "python",
   "pygments_lexer": "ipython3",
   "version": "3.11.3"
  }
 },
 "nbformat": 4,
 "nbformat_minor": 5
}
