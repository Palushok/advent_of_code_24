{
 "cells": [
  {
   "cell_type": "code",
   "execution_count": 59,
   "id": "3a65e090",
   "metadata": {},
   "outputs": [],
   "source": [
    "with open('data/5.txt', 'r') as f:\n",
    "    data = f.read()\n",
    "comparisons, tests = data.split('\\n\\n')\n",
    "\n",
    "comparisons = comparisons.split('\\n')\n",
    "comparisons = set((int(x.split('|')[0]), int(x.split('|')[1])) for x in comparisons)\n",
    "tests = tests.split('\\n')\n",
    "tests = [[int(x) for x in line.split(',')] for line in tests]"
   ]
  },
  {
   "cell_type": "code",
   "execution_count": 60,
   "id": "420c4da0",
   "metadata": {},
   "outputs": [],
   "source": [
    "mid_values = []\n",
    "wrong_lines = []\n",
    "for line in tests:\n",
    "    if test_line(line):\n",
    "        mid_values.append(line[len(line)//2])\n",
    "    else:\n",
    "        wrong_lines.append(line)\n"
   ]
  },
  {
   "cell_type": "code",
   "execution_count": 61,
   "id": "d225891c",
   "metadata": {},
   "outputs": [
    {
     "data": {
      "text/plain": [
       "6951"
      ]
     },
     "execution_count": 61,
     "metadata": {},
     "output_type": "execute_result"
    }
   ],
   "source": [
    "sum(mid_values)"
   ]
  },
  {
   "cell_type": "code",
   "execution_count": 62,
   "id": "dd60a616",
   "metadata": {},
   "outputs": [],
   "source": [
    "def test_line(line):\n",
    "    for i in range(len(line)):\n",
    "        for j in range(0, i):\n",
    "            if (line[i], line[j]) in comparisons:\n",
    "                return False\n",
    "        for j in range(i, len(line)):\n",
    "            if (line[j], line[i]) in  comparisons:\n",
    "                return False\n",
    "    return True"
   ]
  },
  {
   "cell_type": "code",
   "execution_count": 63,
   "id": "4c569b4e",
   "metadata": {},
   "outputs": [],
   "source": [
    "mid_values_2 = []\n",
    "for line in wrong_lines:\n",
    "    new_line = []\n",
    "    for v in line:\n",
    "        more = 0\n",
    "        for k in new_line:\n",
    "            if (k, v) in comparisons:\n",
    "                more += 1\n",
    "        new_line = new_line[:more] + [v] + new_line[more:]\n",
    "    mid_values_2.append(new_line[len(new_line)//2]) \n",
    "    "
   ]
  },
  {
   "cell_type": "code",
   "execution_count": 64,
   "id": "ad226452",
   "metadata": {},
   "outputs": [
    {
     "data": {
      "text/plain": [
       "4121"
      ]
     },
     "execution_count": 64,
     "metadata": {},
     "output_type": "execute_result"
    }
   ],
   "source": [
    "sum(mid_values_2)"
   ]
  }
 ],
 "metadata": {
  "kernelspec": {
   "display_name": "Python 3 (ipykernel)",
   "language": "python",
   "name": "python3"
  },
  "language_info": {
   "codemirror_mode": {
    "name": "ipython",
    "version": 3
   },
   "file_extension": ".py",
   "mimetype": "text/x-python",
   "name": "python",
   "nbconvert_exporter": "python",
   "pygments_lexer": "ipython3",
   "version": "3.11.3"
  }
 },
 "nbformat": 4,
 "nbformat_minor": 5
}
