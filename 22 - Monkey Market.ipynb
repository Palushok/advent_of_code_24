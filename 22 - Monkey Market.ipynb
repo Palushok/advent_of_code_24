{
 "cells": [
  {
   "cell_type": "code",
   "execution_count": 1,
   "id": "e415868b",
   "metadata": {},
   "outputs": [],
   "source": [
    "from collections import deque, defaultdict"
   ]
  },
  {
   "cell_type": "code",
   "execution_count": 2,
   "id": "42ecc481",
   "metadata": {},
   "outputs": [],
   "source": [
    "with open('data/22.txt', 'r') as f:\n",
    "    data = [int(x) for x in f.read().splitlines()]"
   ]
  },
  {
   "cell_type": "code",
   "execution_count": 3,
   "id": "c9200058",
   "metadata": {},
   "outputs": [],
   "source": [
    "def get_number(secret):\n",
    "    number = secret * 64 \n",
    "    secret = number ^ secret\n",
    "    secret = secret % 16777216\n",
    "    \n",
    "    number = int(secret / 32)\n",
    "    secret = number ^ secret\n",
    "    secret = secret % 16777216\n",
    "    \n",
    "    number = secret * 2048\n",
    "    secret = number ^ secret\n",
    "    secret = secret % 16777216\n",
    "\n",
    "    return secret"
   ]
  },
  {
   "cell_type": "code",
   "execution_count": 4,
   "id": "c3f33c2f",
   "metadata": {},
   "outputs": [],
   "source": [
    "total = 0\n",
    "for s in data:\n",
    "    for i in range(2000):\n",
    "        s = get_number(s)\n",
    "    total += s"
   ]
  },
  {
   "cell_type": "code",
   "execution_count": 5,
   "id": "22cfc0d2",
   "metadata": {},
   "outputs": [
    {
     "data": {
      "text/plain": [
       "16299144133"
      ]
     },
     "execution_count": 5,
     "metadata": {},
     "output_type": "execute_result"
    }
   ],
   "source": [
    "total"
   ]
  },
  {
   "cell_type": "code",
   "execution_count": 6,
   "id": "779cd394",
   "metadata": {},
   "outputs": [],
   "source": [
    "all_prices = defaultdict(int)\n",
    "last_seq = deque(maxlen=4)\n",
    "for s in data:\n",
    "    all_seqs = set()\n",
    "    price_last = s % 10\n",
    "    s = get_number(s)\n",
    "    for i in range(1999):\n",
    "        s = get_number(s)\n",
    "        price_cur = s % 10\n",
    "        diff = price_cur - price_last\n",
    "        price_last = price_cur\n",
    "        last_seq.append(diff)\n",
    "        ls_t = tuple(last_seq)\n",
    "        if len(last_seq) == 4 and ls_t not in all_seqs:\n",
    "            all_prices[ls_t] += price_cur\n",
    "            all_seqs.add(ls_t)"
   ]
  },
  {
   "cell_type": "code",
   "execution_count": 8,
   "id": "e2464271",
   "metadata": {},
   "outputs": [
    {
     "data": {
      "text/plain": [
       "1896"
      ]
     },
     "execution_count": 8,
     "metadata": {},
     "output_type": "execute_result"
    }
   ],
   "source": [
    "sorted(all_prices.values())[-1]"
   ]
  },
  {
   "cell_type": "code",
   "execution_count": null,
   "id": "4474996a",
   "metadata": {},
   "outputs": [],
   "source": []
  }
 ],
 "metadata": {
  "kernelspec": {
   "display_name": "Python 3 (ipykernel)",
   "language": "python",
   "name": "python3"
  },
  "language_info": {
   "codemirror_mode": {
    "name": "ipython",
    "version": 3
   },
   "file_extension": ".py",
   "mimetype": "text/x-python",
   "name": "python",
   "nbconvert_exporter": "python",
   "pygments_lexer": "ipython3",
   "version": "3.11.3"
  }
 },
 "nbformat": 4,
 "nbformat_minor": 5
}
