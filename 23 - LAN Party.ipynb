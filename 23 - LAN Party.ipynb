{
 "cells": [
  {
   "cell_type": "code",
   "execution_count": 1,
   "id": "173c1080",
   "metadata": {},
   "outputs": [],
   "source": [
    "from collections import defaultdict\n",
    "\n",
    "\n",
    "with open('data/23.txt', 'r') as f:\n",
    "    data = f.read().splitlines()\n",
    "\n",
    "nodes = defaultdict(set)\n",
    "edges = set()\n",
    "for d in data:\n",
    "    edge_one = d.split('-')\n",
    "    edges.add(tuple(edge_one))\n",
    "#     edges.add(tuple(edges_one[::-1]))\n",
    "    nodes[edge_one[0]].add(edge_one[1])\n",
    "    nodes[edge_one[1]].add(edge_one[0])"
   ]
  },
  {
   "cell_type": "code",
   "execution_count": 2,
   "id": "2e339393",
   "metadata": {},
   "outputs": [],
   "source": [
    "set_of_three = set()\n",
    "\n",
    "for i in nodes:\n",
    "    for j in nodes[i]:\n",
    "        if i == j:\n",
    "            continue\n",
    "        inter = nodes[i].intersection(nodes[j])\n",
    "        if len(inter) >= 1:\n",
    "            for common in inter:\n",
    "                if 't' in [i[0], j[0], common[0]]:\n",
    "                    set_of_three.add(tuple(sorted([i, j, common])))"
   ]
  },
  {
   "cell_type": "code",
   "execution_count": 3,
   "id": "8a5ceaee",
   "metadata": {},
   "outputs": [
    {
     "data": {
      "text/plain": [
       "1423"
      ]
     },
     "execution_count": 3,
     "metadata": {},
     "output_type": "execute_result"
    }
   ],
   "source": [
    "len(set_of_three)"
   ]
  },
  {
   "cell_type": "code",
   "execution_count": 5,
   "id": "1e4f500d",
   "metadata": {},
   "outputs": [
    {
     "name": "stdout",
     "output_type": "stream",
     "text": [
      "gt,ha,ir,jn,jq,kb,lr,lt,nl,oj,pp,qh,vy\n"
     ]
    }
   ],
   "source": [
    "set_of_three = set()\n",
    "min_len = 0\n",
    "\n",
    "for i in nodes:\n",
    "    for j in nodes[i]:\n",
    "        if i == j:\n",
    "            continue\n",
    "        inter = nodes[i].intersection(nodes[j])\n",
    "        if len(inter) > min_len:\n",
    "            test_values = sorted(list(inter) + [i, j])\n",
    "            correct = True\n",
    "            for t_v in test_values:\n",
    "                for t_v_2 in test_values:\n",
    "                    if t_v == t_v_2:\n",
    "                        continue\n",
    "                    if t_v_2 not in nodes[t_v]:\n",
    "                        correct = False\n",
    "            if correct:\n",
    "                min_len = len(inter)\n",
    "                new_pass = ','.join(sorted(list(inter) + [i, j]))\n",
    "print(new_pass)"
   ]
  },
  {
   "cell_type": "code",
   "execution_count": null,
   "id": "118003c0",
   "metadata": {},
   "outputs": [],
   "source": []
  }
 ],
 "metadata": {
  "kernelspec": {
   "display_name": "Python 3 (ipykernel)",
   "language": "python",
   "name": "python3"
  },
  "language_info": {
   "codemirror_mode": {
    "name": "ipython",
    "version": 3
   },
   "file_extension": ".py",
   "mimetype": "text/x-python",
   "name": "python",
   "nbconvert_exporter": "python",
   "pygments_lexer": "ipython3",
   "version": "3.11.3"
  }
 },
 "nbformat": 4,
 "nbformat_minor": 5
}
