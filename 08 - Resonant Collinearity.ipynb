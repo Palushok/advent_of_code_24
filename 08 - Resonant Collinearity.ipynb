{
 "cells": [
  {
   "cell_type": "code",
   "execution_count": 79,
   "id": "b0e29946",
   "metadata": {},
   "outputs": [],
   "source": [
    "import numpy as np\n",
    "from itertools import combinations"
   ]
  },
  {
   "cell_type": "code",
   "execution_count": 80,
   "id": "e07be464",
   "metadata": {},
   "outputs": [],
   "source": [
    "with open('data/8.txt', 'r') as f:\n",
    "    data = f.read().splitlines()"
   ]
  },
  {
   "cell_type": "code",
   "execution_count": 81,
   "id": "2cfa454f",
   "metadata": {},
   "outputs": [],
   "source": [
    "import matplotlib.pyplot as plt"
   ]
  },
  {
   "cell_type": "code",
   "execution_count": 82,
   "id": "573c7f1c",
   "metadata": {},
   "outputs": [],
   "source": [
    "data = np.array([list(x) for x in data])"
   ]
  },
  {
   "cell_type": "code",
   "execution_count": 83,
   "id": "a52c030e",
   "metadata": {},
   "outputs": [],
   "source": [
    "letters = set()\n",
    "for i in data:\n",
    "    for j in i:\n",
    "        letters.add(j)\n",
    "letters.remove('.')"
   ]
  },
  {
   "cell_type": "code",
   "execution_count": 84,
   "id": "d355d5e6",
   "metadata": {},
   "outputs": [],
   "source": [
    "def fill_city(city, pair_, paths_away_, n_min, n_max):\n",
    "    for mul in range(n_min, n_max):\n",
    "        antinodes_ = (\n",
    "            (pair_[0][0] - mul * paths_away_[0][0], pair_[0][1] - mul * paths_away_[0][1]),\n",
    "            (pair_[1][0] - mul * paths_away_[1][0], pair_[1][1] - mul * paths_away_[1][1])\n",
    "        )\n",
    "        for an in antinodes_:\n",
    "            if data.shape[0] > an[0] >= 0 and data.shape[0] > an[1] >= 0:\n",
    "                city[an[0], an[1]] += 1"
   ]
  },
  {
   "cell_type": "code",
   "execution_count": 93,
   "id": "d8a96d51",
   "metadata": {},
   "outputs": [],
   "source": [
    "copy_of_city_pt_1 = np.zeros_like(data, dtype=int)\n",
    "copy_of_city_pt_2 = np.zeros_like(data, dtype=int)\n",
    "for l in letters:\n",
    "    coords = np.where(data==l)\n",
    "    coords = [(coords[0][x], coords[1][x]) for x in range(len(coords[0]))]\n",
    "    for pair in combinations(coords, 2):\n",
    "        paths_away = (\n",
    "            (pair[0][0] - pair[1][0], pair[0][1] - pair[1][1]),\n",
    "            (pair[1][0] - pair[0][0], pair[1][1] - pair[0][1])\n",
    "        )\n",
    "        fill_city(copy_of_city_pt_1, pair, paths_away, 2, 3)\n",
    "        fill_city(copy_of_city_pt_2, pair, paths_away, 1, 50)\n",
    "\n",
    "            "
   ]
  },
  {
   "cell_type": "code",
   "execution_count": 94,
   "id": "44d680a7",
   "metadata": {},
   "outputs": [
    {
     "name": "stdout",
     "output_type": "stream",
     "text": [
      "409\n",
      "1308\n"
     ]
    }
   ],
   "source": [
    "print(np.sum(copy_of_city_pt_1 > 0))\n",
    "print(np.sum(copy_of_city_pt_2 > 0))"
   ]
  },
  {
   "cell_type": "code",
   "execution_count": null,
   "id": "7148812a",
   "metadata": {},
   "outputs": [],
   "source": []
  }
 ],
 "metadata": {
  "kernelspec": {
   "display_name": "Python 3 (ipykernel)",
   "language": "python",
   "name": "python3"
  },
  "language_info": {
   "codemirror_mode": {
    "name": "ipython",
    "version": 3
   },
   "file_extension": ".py",
   "mimetype": "text/x-python",
   "name": "python",
   "nbconvert_exporter": "python",
   "pygments_lexer": "ipython3",
   "version": "3.11.3"
  }
 },
 "nbformat": 4,
 "nbformat_minor": 5
}
