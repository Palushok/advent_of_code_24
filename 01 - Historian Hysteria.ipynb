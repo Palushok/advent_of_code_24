{
 "cells": [
  {
   "cell_type": "code",
   "execution_count": 1,
   "id": "eaba8576",
   "metadata": {},
   "outputs": [],
   "source": [
    "from collections import Counter"
   ]
  },
  {
   "cell_type": "code",
   "execution_count": 2,
   "id": "f80a0b66",
   "metadata": {},
   "outputs": [],
   "source": [
    "with open('data/1.txt', 'r') as f:\n",
    "    data = f.read().split('\\n')"
   ]
  },
  {
   "cell_type": "code",
   "execution_count": 3,
   "id": "42e31770",
   "metadata": {},
   "outputs": [
    {
     "name": "stdout",
     "output_type": "stream",
     "text": [
      "1646452\n",
      "23609874\n"
     ]
    }
   ],
   "source": [
    "left = []\n",
    "right = []\n",
    "for d in data:\n",
    "    new_line = d.split(' ')\n",
    "    left.append(int(new_line[0]))\n",
    "    right.append(int(new_line[-1]))\n",
    "left.sort()\n",
    "right.sort()\n",
    "\n",
    "res = 0\n",
    "for l, r in zip(left, right):\n",
    "    res += abs(l - r)\n",
    "\n",
    "left_counted = dict(Counter(left))\n",
    "right_counted = dict(Counter(right))\n",
    "\n",
    "res2 = 0\n",
    "for number, freq in left_counted.items():\n",
    "    if number in right_counted:\n",
    "        res2 += freq * number * right_counted[number]\n",
    "print(res)\n",
    "print(res2)"
   ]
  },
  {
   "cell_type": "code",
   "execution_count": null,
   "id": "21e5f0e4",
   "metadata": {},
   "outputs": [],
   "source": []
  }
 ],
 "metadata": {
  "kernelspec": {
   "display_name": "Python 3 (ipykernel)",
   "language": "python",
   "name": "python3"
  },
  "language_info": {
   "codemirror_mode": {
    "name": "ipython",
    "version": 3
   },
   "file_extension": ".py",
   "mimetype": "text/x-python",
   "name": "python",
   "nbconvert_exporter": "python",
   "pygments_lexer": "ipython3",
   "version": "3.11.3"
  }
 },
 "nbformat": 4,
 "nbformat_minor": 5
}
