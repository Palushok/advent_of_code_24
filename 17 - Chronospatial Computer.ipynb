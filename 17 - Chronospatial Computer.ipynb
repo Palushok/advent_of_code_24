{
 "cells": [
  {
   "cell_type": "code",
   "execution_count": 147,
   "id": "4908bc19",
   "metadata": {},
   "outputs": [],
   "source": [
    "with open('data/17.txt', 'r') as f:\n",
    "    data = f.read().splitlines()\n"
   ]
  },
  {
   "cell_type": "code",
   "execution_count": 152,
   "id": "13d058ed",
   "metadata": {},
   "outputs": [],
   "source": [
    "class Computer:\n",
    "    def __init__(self, data):\n",
    "        self.A = int(data[0].split(' ')[-1])\n",
    "        self.B = int(data[1].split(' ')[-1])\n",
    "        self.C = int(data[2].split(' ')[-1])\n",
    "        self.pointer = 0\n",
    "        self.program = [int(x) for x in data[4].split(' ')[1].split(',')]\n",
    "        self.methods = {\n",
    "            0: self.adv,\n",
    "            1: self.bxl,\n",
    "            2: self.bst,\n",
    "            3: self.jnz,\n",
    "            4: self.bxc,\n",
    "            5: self.out,\n",
    "            6: self.bdv,\n",
    "            7: self.cdv\n",
    "        }\n",
    "    \n",
    "    def __repr__(self):\n",
    "        return f\"A: {self.A}\\nB: {self.B}\\nC: {self.C}\\n\\nProgram: {self.program}\"\n",
    "    \n",
    "    def get_val(self, number):\n",
    "        if 0 <= number <= 3:\n",
    "            return number\n",
    "        elif number == 4:\n",
    "            return self.A\n",
    "        elif number == 5:\n",
    "            return self.B\n",
    "        elif number == 6:\n",
    "            return self.C\n",
    "        elif number == 7:\n",
    "            raise Exception(\"Unacceptable number (7)\")\n",
    "        else:\n",
    "            raise Exception(f\"Unacceptable number {number}\")\n",
    "        \n",
    "    def adv(self):\n",
    "        # 0\n",
    "        number = self.get_val(self.program[self.pointer + 1])\n",
    "        self.A = self.A // (2**number)\n",
    "        self.pointer += 2\n",
    "\n",
    "    def bxl(self):\n",
    "        # 1\n",
    "        number = self.program[self.pointer + 1]\n",
    "        self.B = self.B ^ number\n",
    "        self.pointer += 2\n",
    "        \n",
    "    def bst(self):\n",
    "        # 2\n",
    "        number = self.get_val(self.program[self.pointer + 1])\n",
    "        self.B = number % 8\n",
    "        self.pointer += 2\n",
    "        \n",
    "    def jnz(self):\n",
    "        # 3\n",
    "        number = self.program[self.pointer + 1]\n",
    "        if self.A == 0:\n",
    "            self.pointer += 2\n",
    "            return\n",
    "        self.pointer = number\n",
    "    \n",
    "    def bxc(self):\n",
    "        # 4\n",
    "        self.B = self.B ^ self.C\n",
    "        self.pointer += 2\n",
    "        \n",
    "    def out(self):\n",
    "        # 5\n",
    "        number = self.get_val(self.program[self.pointer + 1])\n",
    "        self.pointer += 2\n",
    "        return number % 8\n",
    "    \n",
    "    def bdv(self):\n",
    "        # 6\n",
    "        number = self.get_val(self.program[self.pointer + 1])\n",
    "        self.B = self.A // (2**number)\n",
    "        self.pointer += 2\n",
    "        \n",
    "    def cdv(self):\n",
    "        # 7\n",
    "        number = self.get_val(self.program[self.pointer + 1])\n",
    "        self.C = self.A // (2**number)\n",
    "        self.pointer += 2\n",
    "        \n",
    "    def run(self, wait_rank = None):\n",
    "        self.pointer = 0\n",
    "        total_res = []\n",
    "        while self.pointer < len(self.program):\n",
    "            res = self.methods[self.program[self.pointer]]()\n",
    "            if res is not None:\n",
    "                total_res.append(res)\n",
    "        return total_res\n",
    "    "
   ]
  },
  {
   "cell_type": "code",
   "execution_count": 153,
   "id": "66ae9e42",
   "metadata": {},
   "outputs": [],
   "source": [
    "def find_number(str_number):\n",
    "    if str_number != '':\n",
    "        number = str_number\n",
    "        comp = Computer(data)\n",
    "        comp.A = int(number, 8)\n",
    "        res = comp.run()\n",
    "        if res == comp.program:\n",
    "            return int(str_number, 8)\n",
    "        if res != comp.program[-len(number):]:\n",
    "            return\n",
    "    \n",
    "    for i in range(8):\n",
    "        number = str_number + str(i)\n",
    "        res = find_number(number)\n",
    "        if res:\n",
    "            return res"
   ]
  },
  {
   "cell_type": "code",
   "execution_count": 154,
   "id": "8c659728",
   "metadata": {},
   "outputs": [
    {
     "name": "stdout",
     "output_type": "stream",
     "text": [
      "Part 1:\n",
      "1,0,2,0,5,7,2,1,3\n"
     ]
    }
   ],
   "source": [
    "comp = Computer(data)\n",
    "print('Part 1:')\n",
    "print(str(comp.run()).replace(' ', '').replace(']', '').replace('[', ''))"
   ]
  },
  {
   "cell_type": "code",
   "execution_count": 155,
   "id": "50bfd467",
   "metadata": {
    "scrolled": true
   },
   "outputs": [
    {
     "name": "stdout",
     "output_type": "stream",
     "text": [
      "Part 2:\n",
      "265652340990875\n"
     ]
    }
   ],
   "source": [
    "print(f'Part 2:\\n{find_number(\"\")}')"
   ]
  },
  {
   "cell_type": "code",
   "execution_count": null,
   "id": "b365e2ae",
   "metadata": {},
   "outputs": [],
   "source": []
  }
 ],
 "metadata": {
  "kernelspec": {
   "display_name": "Python 3 (ipykernel)",
   "language": "python",
   "name": "python3"
  },
  "language_info": {
   "codemirror_mode": {
    "name": "ipython",
    "version": 3
   },
   "file_extension": ".py",
   "mimetype": "text/x-python",
   "name": "python",
   "nbconvert_exporter": "python",
   "pygments_lexer": "ipython3",
   "version": "3.11.3"
  }
 },
 "nbformat": 4,
 "nbformat_minor": 5
}
