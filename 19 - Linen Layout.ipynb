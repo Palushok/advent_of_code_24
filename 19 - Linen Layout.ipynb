{
 "cells": [
  {
   "cell_type": "code",
   "execution_count": 1,
   "id": "9a7f72da",
   "metadata": {},
   "outputs": [],
   "source": [
    "with open('data/19.txt', 'r') as f:\n",
    "    data = f.read().splitlines()\n",
    "patterns = data[0].split(', ')\n",
    "\n",
    "colors = data[2:]"
   ]
  },
  {
   "cell_type": "code",
   "execution_count": 2,
   "id": "05523a96",
   "metadata": {},
   "outputs": [],
   "source": [
    "color = colors[2]"
   ]
  },
  {
   "cell_type": "code",
   "execution_count": 3,
   "id": "f41c61e9",
   "metadata": {},
   "outputs": [],
   "source": [
    "all_res = []\n",
    "for color in colors:\n",
    "    res = [0 for _ in range(len(color)+1)]\n",
    "    res[0] = 1\n",
    "    for i, c in enumerate(color):\n",
    "        for p in patterns:\n",
    "            if len(p) <= i + 1 and color[i+1-len(p):i+1] == p:\n",
    "                res[i+1] += res[i+1-len(p)]\n",
    "    all_res.append(res)"
   ]
  },
  {
   "cell_type": "code",
   "execution_count": 4,
   "id": "ca51b2da",
   "metadata": {},
   "outputs": [
    {
     "data": {
      "text/plain": [
       "342"
      ]
     },
     "execution_count": 4,
     "metadata": {},
     "output_type": "execute_result"
    }
   ],
   "source": [
    "len([x for x in all_res if x[-1]])"
   ]
  },
  {
   "cell_type": "code",
   "execution_count": 5,
   "id": "6acb2c10",
   "metadata": {},
   "outputs": [
    {
     "data": {
      "text/plain": [
       "891192814474630"
      ]
     },
     "execution_count": 5,
     "metadata": {},
     "output_type": "execute_result"
    }
   ],
   "source": [
    "sum([x[-1] for x in all_res])"
   ]
  }
 ],
 "metadata": {
  "kernelspec": {
   "display_name": "Python 3 (ipykernel)",
   "language": "python",
   "name": "python3"
  },
  "language_info": {
   "codemirror_mode": {
    "name": "ipython",
    "version": 3
   },
   "file_extension": ".py",
   "mimetype": "text/x-python",
   "name": "python",
   "nbconvert_exporter": "python",
   "pygments_lexer": "ipython3",
   "version": "3.11.3"
  }
 },
 "nbformat": 4,
 "nbformat_minor": 5
}
