{
 "cells": [
  {
   "cell_type": "code",
   "execution_count": 1,
   "id": "4b120fc6",
   "metadata": {},
   "outputs": [],
   "source": [
    "import numpy as np\n",
    "import matplotlib.pyplot as plt\n",
    "\n",
    "\n",
    "with open('data/20.txt', 'r') as f:\n",
    "    data = np.array([list(x) for x in f.read().splitlines()])\n",
    "    \n",
    "new_data = np.full((data.shape[0]+2, data.shape[1]+2), '#')\n",
    "new_data[1:-1,1:-1] = data\n",
    "data = new_data"
   ]
  },
  {
   "cell_type": "code",
   "execution_count": 3,
   "id": "1466faec",
   "metadata": {},
   "outputs": [],
   "source": [
    "ys, xs = np.where(data=='S')\n",
    "\n",
    "start_pos = (ys[0],xs[0])\n",
    "\n",
    "ys, xs = np.where(data=='E')\n",
    "end_pos = (ys[0],xs[0])\n",
    "\n",
    "data[start_pos] = '.'\n",
    "data[end_pos] = '.'"
   ]
  },
  {
   "cell_type": "code",
   "execution_count": 4,
   "id": "375db3be",
   "metadata": {},
   "outputs": [],
   "source": [
    "directions = (\n",
    "    (-1,0),\n",
    "    (1, 0),\n",
    "    (0,-1),\n",
    "    (0, 1),\n",
    ")"
   ]
  },
  {
   "cell_type": "code",
   "execution_count": 5,
   "id": "247ed85a",
   "metadata": {},
   "outputs": [],
   "source": [
    "pos_ways = []\n",
    "for d in directions:\n",
    "    new_pos = start_pos[0] + d[0], start_pos[1] + d[1]\n",
    "    if data[new_pos] == '.':\n",
    "        pos_ways.append([(new_pos), d, 1])\n",
    "\n",
    "distance_map = np.ones_like(data, dtype=float)\n",
    "distance_map *= np.inf\n",
    "distance_map[start_pos] = 0\n",
    "\n",
    "while pos_ways:\n",
    "    pos, new_d, dist = pos_ways.pop()\n",
    "    distance_map[pos] = min(distance_map[pos], dist)\n",
    "    new_pos = pos[0] + new_d[0], pos[1] + new_d[1]\n",
    "    for d in directions:\n",
    "        new_pos = pos[0] + d[0], pos[1] + d[1]\n",
    "        if data[new_pos] != '#' and (distance_map[new_pos] > dist + 1):\n",
    "            pos_ways.append((new_pos, d, dist + 1))\n",
    "        \n",
    "    "
   ]
  },
  {
   "cell_type": "code",
   "execution_count": 6,
   "id": "41ecf689",
   "metadata": {},
   "outputs": [],
   "source": [
    "def find_possible_points(pos, distance=20):\n",
    "    possible_points = []\n",
    "    for i in range(-distance, distance + 1):\n",
    "        if pos[0] + i < 0 or pos[0] + i >= data.shape[0]:\n",
    "            continue\n",
    "        for j in range(-distance + abs(i), distance + 1 - abs(i)):\n",
    "            if pos[1] + j < 0 or pos[1] + j >= data.shape[1] or (abs(i) + abs(j) < 2):\n",
    "                continue\n",
    "            possible_points.append(((pos[0] + i, pos[1] + j), abs(i) + abs(j)))\n",
    "    return possible_points    "
   ]
  },
  {
   "cell_type": "code",
   "execution_count": 7,
   "id": "7bd35791",
   "metadata": {},
   "outputs": [
    {
     "name": "stdout",
     "output_type": "stream",
     "text": [
      "Part 1: 1327\n",
      "Part 2: 985737\n"
     ]
    }
   ],
   "source": [
    "for cheat_i, cheat in enumerate([2, 20]):\n",
    "    good_cuts = 0\n",
    "    for i in range(len(data)):\n",
    "        for j in range(len(data[0])):\n",
    "            if data[i, j] == '.':\n",
    "                for point, dist in find_possible_points((i, j), cheat):\n",
    "                    if data[point] == '.':\n",
    "                        if distance_map[point] - distance_map[i, j] - dist >= 100:\n",
    "                            good_cuts += 1\n",
    "    print(f'Part {cheat_i+1}: {good_cuts}')\n"
   ]
  }
 ],
 "metadata": {
  "kernelspec": {
   "display_name": "Python 3 (ipykernel)",
   "language": "python",
   "name": "python3"
  },
  "language_info": {
   "codemirror_mode": {
    "name": "ipython",
    "version": 3
   },
   "file_extension": ".py",
   "mimetype": "text/x-python",
   "name": "python",
   "nbconvert_exporter": "python",
   "pygments_lexer": "ipython3",
   "version": "3.11.3"
  }
 },
 "nbformat": 4,
 "nbformat_minor": 5
}
