{
 "cells": [
  {
   "cell_type": "code",
   "execution_count": 1,
   "id": "64fee60a",
   "metadata": {},
   "outputs": [],
   "source": [
    "import numpy as np\n",
    "from copy import deepcopy"
   ]
  },
  {
   "cell_type": "code",
   "execution_count": 2,
   "id": "55d42e28",
   "metadata": {},
   "outputs": [],
   "source": [
    "with open('data/12.txt', 'r') as f:\n",
    "    data = np.array([list(x) for x in f.read().splitlines()])"
   ]
  },
  {
   "cell_type": "code",
   "execution_count": 3,
   "id": "d98ed8e0",
   "metadata": {},
   "outputs": [],
   "source": [
    "big_data = np.full((data.shape[0]+2, data.shape[1]+2), '')\n",
    "big_data[1:-1,1:-1] = data\n",
    "data = big_data\n",
    "data_base = deepcopy(data)"
   ]
  },
  {
   "cell_type": "code",
   "execution_count": 4,
   "id": "aaf3ad09",
   "metadata": {},
   "outputs": [],
   "source": [
    "directions = (\n",
    "    (-1,0),\n",
    "    (1,0),\n",
    "    (0,-1),\n",
    "    (0,1),\n",
    ")"
   ]
  },
  {
   "cell_type": "code",
   "execution_count": 5,
   "id": "ffe0770e",
   "metadata": {},
   "outputs": [],
   "source": [
    "def check_neighbours(y, x, letter):\n",
    "    global data\n",
    "    data[y, x] = '*'\n",
    "    for dir_ in directions:\n",
    "        if data[y+dir_[0], x+dir_[1]] == letter:\n",
    "            check_neighbours(y + dir_[0], x + dir_[1], letter)"
   ]
  },
  {
   "cell_type": "code",
   "execution_count": 6,
   "id": "a42360a3",
   "metadata": {},
   "outputs": [],
   "source": [
    "def get_price(chipper = False):\n",
    "    global data\n",
    "    ys, xs = np.where(data=='*')\n",
    "    xs = [int(x) for x in xs]\n",
    "    ys = [int(y) for y in ys]\n",
    "    area = len(ys)\n",
    "    if chipper:\n",
    "        K = 2\n",
    "        img = np.zeros(((max(ys)-min(ys)) * K + 6, (max(xs) - min(xs))* K + 6), dtype=bool)\n",
    "\n",
    "        xs_ = [int(x) - min(xs) + 1 for x in xs]\n",
    "        ys_ = [int(y) - min(ys) + 1 for y in ys]\n",
    "        for y, x in zip(ys_, xs_):\n",
    "            img[y * K: y * K + K, x * K: x * K + K] = True\n",
    "        perimeter = 0\n",
    "        for i in range(img.shape[0]-1):\n",
    "            for j in range(img.shape[1]-1):\n",
    "                res = np.sum(img[i:i+2, j:j+2])\n",
    "                if res == 1 or res == 3:\n",
    "                    perimeter += 1\n",
    "                elif (res == 2) and (img[i, j] == img[i+1, j+1]):\n",
    "                    perimeter += 2\n",
    "    else:\n",
    "        perimeter = 0\n",
    "        for x, y in zip(xs, ys):\n",
    "            for dir_ in directions:\n",
    "                if data[y+dir_[0], x+dir_[1]] != '*':\n",
    "                    perimeter += 1\n",
    "    for y, x in zip(ys, xs):\n",
    "        data[y, x] = ''\n",
    "    return area, perimeter"
   ]
  },
  {
   "cell_type": "code",
   "execution_count": 7,
   "id": "adf9b2ec",
   "metadata": {},
   "outputs": [
    {
     "name": "stdout",
     "output_type": "stream",
     "text": [
      "Part 1: 1477924\n",
      "Part 2: 841934\n"
     ]
    }
   ],
   "source": [
    "for part in range(2):\n",
    "    data = deepcopy(data_base)\n",
    "    total_price = 0\n",
    "    for j_ in range(data.shape[0]):\n",
    "        for i_ in range(data.shape[1]):\n",
    "            letter = data[j_, i_]\n",
    "            if letter == '':\n",
    "                continue\n",
    "            check_neighbours(j_, i_, letter)\n",
    "            new_price = get_price(bool(part))\n",
    "            total_price += new_price[0] * new_price[1]\n",
    "    print(f\"Part {part+1}: {total_price}\")"
   ]
  }
 ],
 "metadata": {
  "kernelspec": {
   "display_name": "Python 3 (ipykernel)",
   "language": "python",
   "name": "python3"
  },
  "language_info": {
   "codemirror_mode": {
    "name": "ipython",
    "version": 3
   },
   "file_extension": ".py",
   "mimetype": "text/x-python",
   "name": "python",
   "nbconvert_exporter": "python",
   "pygments_lexer": "ipython3",
   "version": "3.11.3"
  }
 },
 "nbformat": 4,
 "nbformat_minor": 5
}
